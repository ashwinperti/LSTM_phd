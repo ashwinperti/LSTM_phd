{
 "cells": [
  {
   "cell_type": "code",
   "execution_count": 1,
   "id": "a1e48fb0",
   "metadata": {},
   "outputs": [
    {
     "name": "stdout",
     "output_type": "stream",
     "text": [
      "unique characters :  27\n",
      "txt_data_size :  81\n"
     ]
    }
   ],
   "source": [
    "import numpy as np\n",
    "# load text data\n",
    "\n",
    "txt_data = \"abcdefghijklmnopqrstuvwxyz abcdefghijklmnopqrstuvwxyz abcdefghijklmnopqrstuvwxyz \" # input data\n",
    "# txt_data = open('input.txt', 'r').read() # test external files\n",
    "\n",
    "chars = list(set(txt_data)) # split and remove duplicate characters. convert to list.\n",
    "\n",
    "num_chars = len(chars) # the number of unique characters\n",
    "txt_data_size = len(txt_data)\n",
    "\n",
    "print(\"unique characters : \", num_chars) # You can see the number of unique characters in your input data.\n",
    "print(\"txt_data_size : \", txt_data_size)"
   ]
  },
  {
   "cell_type": "code",
   "execution_count": 2,
   "id": "a3ad9d0b",
   "metadata": {},
   "outputs": [
    {
     "name": "stdout",
     "output_type": "stream",
     "text": [
      "{'x': 0, 'b': 1, 'z': 2, 'k': 3, 'q': 4, 'u': 5, 'p': 6, 'j': 7, 'n': 8, 'm': 9, 'y': 10, 'e': 11, 'a': 12, ' ': 13, 'r': 14, 'i': 15, 'd': 16, 'c': 17, 's': 18, 'l': 19, 'h': 20, 'g': 21, 'f': 22, 'v': 23, 't': 24, 'w': 25, 'o': 26}\n",
      "----------------------------------------------------\n",
      "{0: 'x', 1: 'b', 2: 'z', 3: 'k', 4: 'q', 5: 'u', 6: 'p', 7: 'j', 8: 'n', 9: 'm', 10: 'y', 11: 'e', 12: 'a', 13: ' ', 14: 'r', 15: 'i', 16: 'd', 17: 'c', 18: 's', 19: 'l', 20: 'h', 21: 'g', 22: 'f', 23: 'v', 24: 't', 25: 'w', 26: 'o'}\n",
      "----------------------------------------------------\n",
      "[12, 1, 17, 16, 11, 22, 21, 20, 15, 7, 3, 19, 9, 8, 26, 6, 4, 14, 18, 24, 5, 23, 25, 0, 10, 2, 13, 12, 1, 17, 16, 11, 22, 21, 20, 15, 7, 3, 19, 9, 8, 26, 6, 4, 14, 18, 24, 5, 23, 25, 0, 10, 2, 13, 12, 1, 17, 16, 11, 22, 21, 20, 15, 7, 3, 19, 9, 8, 26, 6, 4, 14, 18, 24, 5, 23, 25, 0, 10, 2, 13]\n",
      "----------------------------------------------------\n",
      "data length :  81\n"
     ]
    }
   ],
   "source": [
    "# one hot encode\n",
    "char_to_int = dict((c, i) for i, c in enumerate(chars)) # \"enumerate\" retruns index and value. Convert it to dictionary\n",
    "int_to_char = dict((i, c) for i, c in enumerate(chars))\n",
    "print(char_to_int)\n",
    "print(\"----------------------------------------------------\")\n",
    "print(int_to_char)\n",
    "print(\"----------------------------------------------------\")\n",
    "# integer encode input data\n",
    "integer_encoded = [char_to_int[i] for i in txt_data] # \"integer_encoded\" is a list which has a sequence converted from an original data to integers.\n",
    "print(integer_encoded)\n",
    "print(\"----------------------------------------------------\")\n",
    "print(\"data length : \", len(integer_encoded))"
   ]
  },
  {
   "cell_type": "code",
   "execution_count": 3,
   "id": "be60a73a",
   "metadata": {},
   "outputs": [
    {
     "name": "stdout",
     "output_type": "stream",
     "text": [
      "(81, 27)\n",
      "[[0 0 0 ... 0 0 0]\n",
      " [0 1 0 ... 0 0 0]\n",
      " [0 0 0 ... 0 0 0]\n",
      " ...\n",
      " [0 0 0 ... 0 0 0]\n",
      " [0 0 1 ... 0 0 0]\n",
      " [0 0 0 ... 0 0 0]]\n",
      "a\n"
     ]
    }
   ],
   "source": [
    "# Not actually used.\n",
    "\n",
    "onehot_encoded = []\n",
    "\n",
    "for ix in integer_encoded: # ix is an index mapped to a unique character.\n",
    "    letter = [0 for _ in range(len(chars))] # A list len is equal to the number of unique characters and whose elements are all zero.\n",
    "    letter[ix] = 1 # 'letter' is a one-hot vector.\n",
    "    onehot_encoded.append(letter) # Add a 1d list(a vector for one character).\n",
    "onehot_encoded = np.array(onehot_encoded) # list to np-array   \n",
    "\n",
    "print(onehot_encoded.shape)     #  = (len(data),len(chars))\n",
    "print(onehot_encoded)\n",
    "\n",
    "# invert encoding\n",
    "inverted = int_to_char[np.argmax(onehot_encoded[0])] # \"argmax\" returns the index of the largest value. \n",
    "print(inverted)"
   ]
  },
  {
   "cell_type": "markdown",
   "id": "3d45b954",
   "metadata": {},
   "source": [
    "## Initialization"
   ]
  },
  {
   "cell_type": "code",
   "execution_count": 4,
   "id": "79cc8f84",
   "metadata": {},
   "outputs": [],
   "source": [
    "# hyperparameters\n",
    "\n",
    "iteration = 5000\n",
    "sequence_length = 10\n",
    "batch_size = round((txt_data_size /sequence_length)+0.5) # = math.ceil\n",
    "hidden_size = 100  # size of hidden layer of neurons.  \n",
    "learning_rate = 1e-1\n",
    "\n",
    "# model parameters\n",
    "\n",
    "W_xh = np.random.randn(hidden_size, num_chars)*0.01     # weight input -> hidden. \n",
    "W_hh = np.random.randn(hidden_size, hidden_size)*0.01   # weight hidden -> hidden\n",
    "W_hy = np.random.randn(num_chars, hidden_size)*0.01     # weight hidden -> output\n",
    "\n",
    "b_h = np.zeros((hidden_size, 1)) # hidden bias\n",
    "b_y = np.zeros((num_chars, 1)) # output bias\n",
    "\n",
    "h_prev = np.zeros((hidden_size,1)) # h_(t-1)"
   ]
  },
  {
   "cell_type": "markdown",
   "id": "b5a44b80",
   "metadata": {},
   "source": [
    "## Forward Propagation"
   ]
  },
  {
   "cell_type": "code",
   "execution_count": 5,
   "id": "efaf9dbb",
   "metadata": {},
   "outputs": [],
   "source": [
    "def forwardprop(inputs, targets, h_prev):\n",
    "    # Since the RNN receives the sequence, the weights are not updated during one sequence.\n",
    "    xs, hs, ys, ps = {}, {}, {}, {} # dictionary\n",
    "    hs[-1] = np.copy(h_prev) # Copy previous hidden state vector to -1 key value.\n",
    "    loss = 0 # loss initialization\n",
    "    \n",
    "    for t in range(len(inputs)): # t is a \"time step\" and is used as a key(dic).  \n",
    "        xs[t] = np.zeros((num_chars,1)) \n",
    "        xs[t][inputs[t]] = 1\n",
    "        hs[t] = np.tanh(np.dot(W_xh, xs[t]) + np.dot(W_hh, hs[t-1]) + b_h) # hidden state. \n",
    "        ys[t] = np.dot(W_hy, hs[t]) + b_y # unnormalized log probabilities for next chars\n",
    "        ps[t] = np.exp(ys[t]) / np.sum(np.exp(ys[t])) # probabilities for next chars. \n",
    "        # Softmax. -> The sum of probabilities is 1 even without the exp() function, but all of the elements are positive through the exp() function.\n",
    " \n",
    "        loss += -np.log(ps[t][targets[t],0]) # softmax (cross-entropy loss). Efficient and simple code\n",
    "\n",
    "#         y_class = np.zeros((num_chars, 1)) \n",
    "#         y_class[targets[t]] =1\n",
    "#         loss += np.sum(y_class*(-np.log(ps[t]))) # softmax (cross-entropy loss)        \n",
    "\n",
    "    return loss, ps, hs, xs "
   ]
  },
  {
   "cell_type": "markdown",
   "id": "352c8efe",
   "metadata": {},
   "source": [
    "## Backward Propagation"
   ]
  },
  {
   "cell_type": "code",
   "execution_count": 6,
   "id": "d6b86062",
   "metadata": {},
   "outputs": [],
   "source": [
    "def backprop(ps, inputs, hs, xs):\n",
    "\n",
    "    dWxh, dWhh, dWhy = np.zeros_like(W_xh), np.zeros_like(W_hh), np.zeros_like(W_hy) # make all zero matrices.\n",
    "    dbh, dby = np.zeros_like(b_h), np.zeros_like(b_y)\n",
    "    dhnext = np.zeros_like(hs[0]) # (hidden_size,1) \n",
    "\n",
    "    # reversed\n",
    "    for t in reversed(range(len(inputs))):\n",
    "        dy = np.copy(ps[t]) # shape (num_chars,1).  \"dy\" means \"dloss/dy\"\n",
    "        dy[targets[t]] -= 1 # backprop into y. After taking the soft max in the input vector, subtract 1 from the value of the element corresponding to the correct label.\n",
    "        dWhy += np.dot(dy, hs[t].T)\n",
    "        dby += dy \n",
    "        dh = np.dot(W_hy.T, dy) + dhnext # backprop into h. \n",
    "        dhraw = (1 - hs[t] * hs[t]) * dh # backprop through tanh nonlinearity #tanh'(x) = 1-tanh^2(x)\n",
    "        dbh += dhraw\n",
    "        dWxh += np.dot(dhraw, xs[t].T)\n",
    "        dWhh += np.dot(dhraw, hs[t-1].T)\n",
    "        dhnext = np.dot(W_hh.T, dhraw)\n",
    "    for dparam in [dWxh, dWhh, dWhy, dbh, dby]: \n",
    "        np.clip(dparam, -5, 5, out=dparam) # clip to mitigate exploding gradients.  \n",
    "    \n",
    "    return dWxh, dWhh, dWhy, dbh, dby"
   ]
  },
  {
   "cell_type": "markdown",
   "id": "dccf3fe2",
   "metadata": {},
   "source": [
    "## Training"
   ]
  },
  {
   "cell_type": "code",
   "execution_count": 7,
   "id": "69d241f6",
   "metadata": {},
   "outputs": [
    {
     "name": "stdout",
     "output_type": "stream",
     "text": [
      "iter 0, loss: 3.814769\n",
      "iter 100, loss: 0.015266\n",
      "iter 200, loss: 0.006316\n",
      "iter 300, loss: 0.003864\n",
      "iter 400, loss: 0.002754\n",
      "iter 500, loss: 0.002123\n",
      "iter 600, loss: 0.001722\n",
      "iter 700, loss: 0.001446\n",
      "iter 800, loss: 0.001246\n",
      "iter 900, loss: 0.001093\n",
      "iter 1000, loss: 0.000974\n",
      "iter 1100, loss: 0.000878\n",
      "iter 1200, loss: 0.000800\n",
      "iter 1300, loss: 0.000735\n",
      "iter 1400, loss: 0.000679\n",
      "iter 1500, loss: 0.000632\n",
      "iter 1600, loss: 0.000591\n",
      "iter 1700, loss: 0.000555\n",
      "iter 1800, loss: 0.000523\n",
      "iter 1900, loss: 0.000495\n",
      "iter 2000, loss: 0.000470\n",
      "iter 2100, loss: 0.000447\n",
      "iter 2200, loss: 0.000427\n",
      "iter 2300, loss: 0.000408\n",
      "iter 2400, loss: 0.000391\n",
      "iter 2500, loss: 0.000376\n",
      "iter 2600, loss: 0.000361\n",
      "iter 2700, loss: 0.000348\n",
      "iter 2800, loss: 0.000335\n",
      "iter 2900, loss: 0.000324\n",
      "iter 3000, loss: 0.000313\n",
      "iter 3100, loss: 0.000303\n",
      "iter 3200, loss: 0.000293\n",
      "iter 3300, loss: 0.000284\n",
      "iter 3400, loss: 0.000276\n",
      "iter 3500, loss: 0.000268\n",
      "iter 3600, loss: 0.000260\n",
      "iter 3700, loss: 0.000253\n",
      "iter 3800, loss: 0.000246\n",
      "iter 3900, loss: 0.000240\n",
      "iter 4000, loss: 0.000234\n",
      "iter 4100, loss: 0.000228\n",
      "iter 4200, loss: 0.000222\n",
      "iter 4300, loss: 0.000217\n",
      "iter 4400, loss: 0.000212\n",
      "iter 4500, loss: 0.000207\n",
      "iter 4600, loss: 0.000202\n",
      "iter 4700, loss: 0.000198\n",
      "iter 4800, loss: 0.000194\n",
      "iter 4900, loss: 0.000189\n"
     ]
    }
   ],
   "source": [
    "ata_pointer = 0\n",
    "\n",
    "# memory variables for Adagrad\n",
    "mWxh, mWhh, mWhy = np.zeros_like(W_xh), np.zeros_like(W_hh), np.zeros_like(W_hy)\n",
    "mbh, mby = np.zeros_like(b_h), np.zeros_like(b_y) \n",
    "\n",
    "for i in range(iteration):\n",
    "    h_prev = np.zeros((hidden_size,1)) # reset RNN memory\n",
    "    data_pointer = 0 # go from start of data\n",
    "    \n",
    "    for b in range(batch_size):\n",
    "        inputs = [char_to_int[ch] for ch in txt_data[data_pointer:data_pointer+sequence_length]]\n",
    "        targets = [char_to_int[ch] for ch in txt_data[data_pointer+1:data_pointer+sequence_length+1]] # t+1        \n",
    "            \n",
    "        if (data_pointer+sequence_length+1 >= len(txt_data) and b == batch_size-1): # processing of the last part of the input data. \n",
    "#             targets.append(char_to_int[txt_data[0]])   # When the data doesn't fit, add the first char to the back.\n",
    "            targets.append(char_to_int[\" \"])   # When the data doesn't fit, add space(\" \") to the back.\n",
    "\n",
    "        # forward\n",
    "        loss, ps, hs, xs = forwardprop(inputs, targets, h_prev)\n",
    "#         print(loss)\n",
    "        # backward\n",
    "        dWxh, dWhh, dWhy, dbh, dby = backprop(ps, inputs, hs, xs) \n",
    "        \n",
    "    # perform parameter update with Adagrad\n",
    "        for param, dparam, mem in zip([W_xh, W_hh, W_hy, b_h, b_y], \n",
    "                                    [dWxh, dWhh, dWhy, dbh, dby], \n",
    "                                    [mWxh, mWhh, mWhy, mbh, mby]):\n",
    "            mem += dparam * dparam # elementwise\n",
    "            param += -learning_rate * dparam / np.sqrt(mem + 1e-8) # adagrad update      \n",
    "        data_pointer += sequence_length # move data pointer\n",
    "        \n",
    "    if i % 100 == 0:\n",
    "        print ('iter %d, loss: %f' % (i, loss)) # print progress"
   ]
  },
  {
   "cell_type": "markdown",
   "id": "d5f05494",
   "metadata": {},
   "source": [
    "## Prediction"
   ]
  },
  {
   "cell_type": "code",
   "execution_count": 8,
   "id": "782fedc0",
   "metadata": {},
   "outputs": [],
   "source": [
    "def predict(test_char, length):\n",
    "    x = np.zeros((num_chars, 1)) \n",
    "    x[char_to_int[test_char]] = 1\n",
    "    ixes = []\n",
    "    h = np.zeros((hidden_size,1))\n",
    "\n",
    "    for t in range(length):\n",
    "        h = np.tanh(np.dot(W_xh, x) + np.dot(W_hh, h) + b_h) \n",
    "        y = np.dot(W_hy, h) + b_y\n",
    "        p = np.exp(y) / np.sum(np.exp(y)) \n",
    "        ix = np.random.choice(range(num_chars), p=p.ravel()) # ravel -> rank0\n",
    "        # \"ix\" is a list of indexes selected according to the soft max probability.\n",
    "        x = np.zeros((num_chars, 1)) # init\n",
    "        x[ix] = 1 \n",
    "        ixes.append(ix) # list\n",
    "    txt = ''.join(int_to_char[i] for i in ixes)\n",
    "    print ('----\\n %s \\n----' % (txt, ))"
   ]
  },
  {
   "cell_type": "code",
   "execution_count": 9,
   "id": "78f9eaac",
   "metadata": {},
   "outputs": [
    {
     "name": "stdout",
     "output_type": "stream",
     "text": [
      "----\n",
      " bcdefghijklmnopqrstuvwxyz abcd \n",
      "----\n"
     ]
    }
   ],
   "source": [
    "predict('a', 30)"
   ]
  },
  {
   "cell_type": "code",
   "execution_count": 10,
   "id": "70890d96",
   "metadata": {},
   "outputs": [
    {
     "name": "stdout",
     "output_type": "stream",
     "text": [
      "----\n",
      " cdexyz abcdefghijklmnopqrstuvw \n",
      "----\n"
     ]
    }
   ],
   "source": [
    "predict('b', 30)"
   ]
  },
  {
   "cell_type": "code",
   "execution_count": null,
   "id": "a5fcb38b",
   "metadata": {},
   "outputs": [],
   "source": []
  }
 ],
 "metadata": {
  "kernelspec": {
   "display_name": "Python 3 (ipykernel)",
   "language": "python",
   "name": "python3"
  },
  "language_info": {
   "codemirror_mode": {
    "name": "ipython",
    "version": 3
   },
   "file_extension": ".py",
   "mimetype": "text/x-python",
   "name": "python",
   "nbconvert_exporter": "python",
   "pygments_lexer": "ipython3",
   "version": "3.9.7"
  }
 },
 "nbformat": 4,
 "nbformat_minor": 5
}
