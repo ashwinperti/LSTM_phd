{
  "nbformat": 4,
  "nbformat_minor": 0,
  "metadata": {
    "colab": {
      "name": "lstm1.ipynb",
      "provenance": [],
      "collapsed_sections": [],
      "authorship_tag": "ABX9TyMgFQ3rcT1JUnQGHq2iXFQe",
      "include_colab_link": true
    },
    "kernelspec": {
      "name": "python3",
      "display_name": "Python 3"
    },
    "language_info": {
      "name": "python"
    },
    "accelerator": "GPU"
  },
  "cells": [
    {
      "cell_type": "markdown",
      "metadata": {
        "id": "view-in-github",
        "colab_type": "text"
      },
      "source": [
        "<a href=\"https://colab.research.google.com/github/ashwinperti/LSTM_phd/blob/main/lstm1.ipynb\" target=\"_parent\"><img src=\"https://colab.research.google.com/assets/colab-badge.svg\" alt=\"Open In Colab\"/></a>"
      ]
    },
    {
      "cell_type": "code",
      "execution_count": 40,
      "metadata": {
        "id": "kRDJfAhk9CZE"
      },
      "outputs": [],
      "source": [
        "import numpy as np # linear algebra\n",
        "import pandas as pd # data processing, CSV file I/O (e.g. pd.read_csv)\n",
        "import torch\n",
        "import torch.nn as nn\n",
        "import torch.nn.functional as F\n",
        "from nltk.corpus import stopwords \n",
        "from collections import Counter\n",
        "import string\n",
        "import re\n",
        "import seaborn as sns\n",
        "from tqdm import tqdm\n",
        "import matplotlib.pyplot as plt\n",
        "from torch.utils.data import TensorDataset, DataLoader\n",
        "from sklearn.model_selection import train_test_split"
      ]
    },
    {
      "cell_type": "code",
      "source": [
        "base_csv = 'movie_data.csv'\n",
        "df = pd.read_csv(base_csv, engine='python', error_bad_lines=False)\n",
        "df.head()"
      ],
      "metadata": {
        "colab": {
          "base_uri": "https://localhost:8080/",
          "height": 313
        },
        "id": "8sHcMnvfCkP3",
        "outputId": "2c6039a0-e28c-4f68-dde8-414e0af9f95a"
      },
      "execution_count": 41,
      "outputs": [
        {
          "output_type": "stream",
          "name": "stderr",
          "text": [
            "/usr/local/lib/python3.7/dist-packages/IPython/core/interactiveshell.py:2882: FutureWarning: The error_bad_lines argument has been deprecated and will be removed in a future version.\n",
            "\n",
            "\n",
            "  exec(code_obj, self.user_global_ns, self.user_ns)\n",
            "Skipping line 36632: unexpected end of data\n"
          ]
        },
        {
          "output_type": "execute_result",
          "data": {
            "text/plain": [
              "                                              review  sentiment\n",
              "0  In 1974, the teenager Martha Moxley (Maggie Gr...          1\n",
              "1  OK... so... I really like Kris Kristofferson a...          0\n",
              "2  ***SPOILER*** Do not read this, if you think a...          0\n",
              "3  hi for all the people who have seen this wonde...          1\n",
              "4  I recently bought the DVD, forgetting just how...          0"
            ],
            "text/html": [
              "\n",
              "  <div id=\"df-62d4a06b-1087-40da-8e17-954c2ea14c71\">\n",
              "    <div class=\"colab-df-container\">\n",
              "      <div>\n",
              "<style scoped>\n",
              "    .dataframe tbody tr th:only-of-type {\n",
              "        vertical-align: middle;\n",
              "    }\n",
              "\n",
              "    .dataframe tbody tr th {\n",
              "        vertical-align: top;\n",
              "    }\n",
              "\n",
              "    .dataframe thead th {\n",
              "        text-align: right;\n",
              "    }\n",
              "</style>\n",
              "<table border=\"1\" class=\"dataframe\">\n",
              "  <thead>\n",
              "    <tr style=\"text-align: right;\">\n",
              "      <th></th>\n",
              "      <th>review</th>\n",
              "      <th>sentiment</th>\n",
              "    </tr>\n",
              "  </thead>\n",
              "  <tbody>\n",
              "    <tr>\n",
              "      <th>0</th>\n",
              "      <td>In 1974, the teenager Martha Moxley (Maggie Gr...</td>\n",
              "      <td>1</td>\n",
              "    </tr>\n",
              "    <tr>\n",
              "      <th>1</th>\n",
              "      <td>OK... so... I really like Kris Kristofferson a...</td>\n",
              "      <td>0</td>\n",
              "    </tr>\n",
              "    <tr>\n",
              "      <th>2</th>\n",
              "      <td>***SPOILER*** Do not read this, if you think a...</td>\n",
              "      <td>0</td>\n",
              "    </tr>\n",
              "    <tr>\n",
              "      <th>3</th>\n",
              "      <td>hi for all the people who have seen this wonde...</td>\n",
              "      <td>1</td>\n",
              "    </tr>\n",
              "    <tr>\n",
              "      <th>4</th>\n",
              "      <td>I recently bought the DVD, forgetting just how...</td>\n",
              "      <td>0</td>\n",
              "    </tr>\n",
              "  </tbody>\n",
              "</table>\n",
              "</div>\n",
              "      <button class=\"colab-df-convert\" onclick=\"convertToInteractive('df-62d4a06b-1087-40da-8e17-954c2ea14c71')\"\n",
              "              title=\"Convert this dataframe to an interactive table.\"\n",
              "              style=\"display:none;\">\n",
              "        \n",
              "  <svg xmlns=\"http://www.w3.org/2000/svg\" height=\"24px\"viewBox=\"0 0 24 24\"\n",
              "       width=\"24px\">\n",
              "    <path d=\"M0 0h24v24H0V0z\" fill=\"none\"/>\n",
              "    <path d=\"M18.56 5.44l.94 2.06.94-2.06 2.06-.94-2.06-.94-.94-2.06-.94 2.06-2.06.94zm-11 1L8.5 8.5l.94-2.06 2.06-.94-2.06-.94L8.5 2.5l-.94 2.06-2.06.94zm10 10l.94 2.06.94-2.06 2.06-.94-2.06-.94-.94-2.06-.94 2.06-2.06.94z\"/><path d=\"M17.41 7.96l-1.37-1.37c-.4-.4-.92-.59-1.43-.59-.52 0-1.04.2-1.43.59L10.3 9.45l-7.72 7.72c-.78.78-.78 2.05 0 2.83L4 21.41c.39.39.9.59 1.41.59.51 0 1.02-.2 1.41-.59l7.78-7.78 2.81-2.81c.8-.78.8-2.07 0-2.86zM5.41 20L4 18.59l7.72-7.72 1.47 1.35L5.41 20z\"/>\n",
              "  </svg>\n",
              "      </button>\n",
              "      \n",
              "  <style>\n",
              "    .colab-df-container {\n",
              "      display:flex;\n",
              "      flex-wrap:wrap;\n",
              "      gap: 12px;\n",
              "    }\n",
              "\n",
              "    .colab-df-convert {\n",
              "      background-color: #E8F0FE;\n",
              "      border: none;\n",
              "      border-radius: 50%;\n",
              "      cursor: pointer;\n",
              "      display: none;\n",
              "      fill: #1967D2;\n",
              "      height: 32px;\n",
              "      padding: 0 0 0 0;\n",
              "      width: 32px;\n",
              "    }\n",
              "\n",
              "    .colab-df-convert:hover {\n",
              "      background-color: #E2EBFA;\n",
              "      box-shadow: 0px 1px 2px rgba(60, 64, 67, 0.3), 0px 1px 3px 1px rgba(60, 64, 67, 0.15);\n",
              "      fill: #174EA6;\n",
              "    }\n",
              "\n",
              "    [theme=dark] .colab-df-convert {\n",
              "      background-color: #3B4455;\n",
              "      fill: #D2E3FC;\n",
              "    }\n",
              "\n",
              "    [theme=dark] .colab-df-convert:hover {\n",
              "      background-color: #434B5C;\n",
              "      box-shadow: 0px 1px 3px 1px rgba(0, 0, 0, 0.15);\n",
              "      filter: drop-shadow(0px 1px 2px rgba(0, 0, 0, 0.3));\n",
              "      fill: #FFFFFF;\n",
              "    }\n",
              "  </style>\n",
              "\n",
              "      <script>\n",
              "        const buttonEl =\n",
              "          document.querySelector('#df-62d4a06b-1087-40da-8e17-954c2ea14c71 button.colab-df-convert');\n",
              "        buttonEl.style.display =\n",
              "          google.colab.kernel.accessAllowed ? 'block' : 'none';\n",
              "\n",
              "        async function convertToInteractive(key) {\n",
              "          const element = document.querySelector('#df-62d4a06b-1087-40da-8e17-954c2ea14c71');\n",
              "          const dataTable =\n",
              "            await google.colab.kernel.invokeFunction('convertToInteractive',\n",
              "                                                     [key], {});\n",
              "          if (!dataTable) return;\n",
              "\n",
              "          const docLinkHtml = 'Like what you see? Visit the ' +\n",
              "            '<a target=\"_blank\" href=https://colab.research.google.com/notebooks/data_table.ipynb>data table notebook</a>'\n",
              "            + ' to learn more about interactive tables.';\n",
              "          element.innerHTML = '';\n",
              "          dataTable['output_type'] = 'display_data';\n",
              "          await google.colab.output.renderOutput(dataTable, element);\n",
              "          const docLink = document.createElement('div');\n",
              "          docLink.innerHTML = docLinkHtml;\n",
              "          element.appendChild(docLink);\n",
              "        }\n",
              "      </script>\n",
              "    </div>\n",
              "  </div>\n",
              "  "
            ]
          },
          "metadata": {},
          "execution_count": 41
        }
      ]
    },
    {
      "cell_type": "code",
      "source": [
        "X, y = df['review'].values, df['sentiment'].values\n",
        "x_train,x_test,y_train,y_test = train_test_split(X,y,stratify=y)\n",
        "print(f'shape of train data is {x_train.shape}')\n",
        "print(f'shape of test data is {x_test.shape}')\n",
        "dd = pd.Series(y_train).value_counts()\n",
        "sns.barplot(x=np.array(['negative','positive']),y=dd.values)\n",
        "plt.show()"
      ],
      "metadata": {
        "colab": {
          "base_uri": "https://localhost:8080/",
          "height": 300
        },
        "id": "TYARe6tQCqee",
        "outputId": "8b56b79b-08d7-4280-e6be-4d76537caf75"
      },
      "execution_count": 42,
      "outputs": [
        {
          "output_type": "stream",
          "name": "stdout",
          "text": [
            "shape of train data is (27472,)\n",
            "shape of test data is (9158,)\n"
          ]
        },
        {
          "output_type": "display_data",
          "data": {
            "text/plain": [
              "<Figure size 432x288 with 1 Axes>"
            ],
            "image/png": "[encoded data removed]"
          },
          "metadata": {
            "needs_background": "light"
          }
        }
      ]
    },
    {
      "cell_type": "code",
      "source": [
        "import nltk\n",
        "nltk.download('stopwords')"
      ],
      "metadata": {
        "colab": {
          "base_uri": "https://localhost:8080/"
        },
        "id": "hkxDK4tWHRvP",
        "outputId": "8b6ac553-8884-4858-bba3-2e72c817ab81"
      },
      "execution_count": 43,
      "outputs": [
        {
          "output_type": "stream",
          "name": "stdout",
          "text": [
            "[nltk_data] Downloading package stopwords to /root/nltk_data...\n",
            "[nltk_data]   Unzipping corpora/stopwords.zip.\n"
          ]
        },
        {
          "output_type": "execute_result",
          "data": {
            "text/plain": [
              "True"
            ]
          },
          "metadata": {},
          "execution_count": 43
        }
      ]
    },
    {
      "cell_type": "code",
      "source": [
        "def preprocess_string(s):\n",
        "    # Remove all non-word characters (everything except numbers and letters)\n",
        "    s = re.sub(r\"[^\\w\\s]\", '', s)\n",
        "    # Replace all runs of whitespaces with no space\n",
        "    s = re.sub(r\"\\s+\", '', s)\n",
        "    # replace digits with no space\n",
        "    s = re.sub(r\"\\d\", '', s)\n",
        "\n",
        "    return s\n",
        "\n",
        "def tockenize(x_train,y_train,x_val,y_val):\n",
        "    word_list = []\n",
        "\n",
        "    stop_words = set(stopwords.words('english')) \n",
        "    for sent in x_train:\n",
        "        for word in sent.lower().split():\n",
        "            word = preprocess_string(word)\n",
        "            if word not in stop_words and word != '':\n",
        "                word_list.append(word)\n",
        "  \n",
        "    corpus = Counter(word_list)\n",
        "    # sorting on the basis of most common words\n",
        "    corpus_ = sorted(corpus,key=corpus.get,reverse=True)[:1000]\n",
        "    # creating a dict\n",
        "    onehot_dict = {w:i+1 for i,w in enumerate(corpus_)}\n",
        "    \n",
        "    # tockenize\n",
        "    final_list_train,final_list_test = [],[]\n",
        "    for sent in x_train:\n",
        "            final_list_train.append([onehot_dict[preprocess_string(word)] for word in sent.lower().split() \n",
        "                                     if preprocess_string(word) in onehot_dict.keys()])\n",
        "    for sent in x_val:\n",
        "            final_list_test.append([onehot_dict[preprocess_string(word)] for word in sent.lower().split() \n",
        "                                    if preprocess_string(word) in onehot_dict.keys()])\n",
        "            \n",
        "    encoded_train = [1 if label =='positive' else 0 for label in y_train]  \n",
        "    encoded_test = [1 if label =='positive' else 0 for label in y_val] \n",
        "    return np.array(final_list_train), np.array(encoded_train),np.array(final_list_test), np.array(encoded_test),onehot_dict\n",
        "x_train,y_train,x_test,y_test,vocab = tockenize(x_train,y_train,x_test,y_test)\n",
        "print(f'Length of vocabulary is {len(vocab)}')\n",
        "\n",
        "rev_len = [len(i) for i in x_train]\n",
        "pd.Series(rev_len).hist()\n",
        "plt.show()\n",
        "pd.Series(rev_len).describe()\n",
        "\n",
        "def padding_(sentences, seq_len):\n",
        "    features = np.zeros((len(sentences), seq_len),dtype=int)\n",
        "    for ii, review in enumerate(sentences):\n",
        "        if len(review) != 0:\n",
        "            features[ii, -len(review):] = np.array(review)[:seq_len]\n",
        "    return features\n",
        "#we have very less number of reviews with length > 500.\n",
        "#So we will consideronly those below it.\n",
        "x_train_pad = padding_(x_train,500)\n",
        "x_test_pad = padding_(x_test,500)\n",
        "\n",
        "# create Tensor datasets\n",
        "train_data = TensorDataset(torch.from_numpy(x_train_pad), torch.from_numpy(y_train))\n",
        "valid_data = TensorDataset(torch.from_numpy(x_test_pad), torch.from_numpy(y_test))\n",
        "\n",
        "# dataloaders\n",
        "batch_size = 50\n",
        "\n",
        "# make sure to SHUFFLE your data\n",
        "train_loader = DataLoader(train_data, shuffle=True, batch_size=batch_size)\n",
        "valid_loader = DataLoader(valid_data, shuffle=True, batch_size=batch_size)\n",
        "\n",
        "# obtain one batch of training data\n",
        "dataiter = iter(train_loader)\n",
        "sample_x, sample_y = dataiter.next()\n",
        "\n",
        "print('Sample input size: ', sample_x.size()) # batch_size, seq_length\n",
        "print('Sample input: \\n', sample_x)\n",
        "print('Sample input: \\n', sample_y)"
      ],
      "metadata": {
        "colab": {
          "base_uri": "https://localhost:8080/",
          "height": 545
        },
        "id": "Xu3-ZPfSCq4P",
        "outputId": "5c0b3ca5-1dd1-4be8-db8e-c989fedaede0"
      },
      "execution_count": 44,
      "outputs": [
        {
          "output_type": "stream",
          "name": "stderr",
          "text": [
            "/usr/local/lib/python3.7/dist-packages/ipykernel_launcher.py:38: VisibleDeprecationWarning: Creating an ndarray from ragged nested sequences (which is a list-or-tuple of lists-or-tuples-or ndarrays with different lengths or shapes) is deprecated. If you meant to do this, you must specify 'dtype=object' when creating the ndarray.\n"
          ]
        },
        {
          "output_type": "stream",
          "name": "stdout",
          "text": [
            "Length of vocabulary is 1000\n"
          ]
        },
        {
          "output_type": "display_data",
          "data": {
            "text/plain": [
              "<Figure size 432x288 with 1 Axes>"
            ],
            "image/png": "[encoded data removed]"
          },
          "metadata": {
            "needs_background": "light"
          }
        },
        {
          "output_type": "stream",
          "name": "stdout",
          "text": [
            "Sample input size:  torch.Size([50, 500])\n",
            "Sample input: \n",
            " tensor([[  0,   0,   0,  ..., 336,  67,   7],\n",
            "        [  0,   0,   0,  ..., 798, 826, 288],\n",
            "        [  0,   0,   0,  ..., 831,   3, 846],\n",
            "        ...,\n",
            "        [  0,   0,   0,  ..., 568, 432,   1],\n",
            "        [  0,   0,   0,  ...,  60,   5, 525],\n",
            "        [  0,   0,   0,  ...,  47, 606,   3]])\n",
            "Sample input: \n",
            " tensor([0, 0, 0, 0, 0, 0, 0, 0, 0, 0, 0, 0, 0, 0, 0, 0, 0, 0, 0, 0, 0, 0, 0, 0,\n",
            "        0, 0, 0, 0, 0, 0, 0, 0, 0, 0, 0, 0, 0, 0, 0, 0, 0, 0, 0, 0, 0, 0, 0, 0,\n",
            "        0, 0])\n"
          ]
        }
      ]
    },
    {
      "cell_type": "code",
      "source": [
        "class SentimentRNN(nn.Module):\n",
        "    def __init__(self,no_layers,vocab_size,hidden_dim,embedding_dim,drop_prob=0.5):\n",
        "        super(SentimentRNN,self).__init__()\n",
        " \n",
        "        self.output_dim = output_dim\n",
        "        self.hidden_dim = hidden_dim\n",
        " \n",
        "        self.no_layers = no_layers\n",
        "        self.vocab_size = vocab_size\n",
        "    \n",
        "        # embedding and LSTM layers\n",
        "        self.embedding = nn.Embedding(vocab_size, embedding_dim)\n",
        "        \n",
        "        #lstm\n",
        "        self.lstm = nn.LSTM(input_size=embedding_dim,hidden_size=self.hidden_dim,\n",
        "                           num_layers=no_layers, batch_first=True)\n",
        "        \n",
        "        \n",
        "        # dropout layer\n",
        "        self.dropout = nn.Dropout(0.3)\n",
        "    \n",
        "        # linear and sigmoid layer\n",
        "        self.fc = nn.Linear(self.hidden_dim, output_dim)\n",
        "        self.sig = nn.Sigmoid()\n",
        "        \n",
        "    def forward(self,x,hidden):\n",
        "        batch_size = x.size(0)\n",
        "        # embeddings and lstm_out\n",
        "        embeds = self.embedding(x)  # shape: B x S x Feature   since batch = True\n",
        "        #print(embeds.shape)  #[50, 500, 1000]\n",
        "        lstm_out, hidden = self.lstm(embeds, hidden)\n",
        "        \n",
        "        lstm_out = lstm_out.contiguous().view(-1, self.hidden_dim) \n",
        "        \n",
        "        # dropout and fully connected layer\n",
        "        out = self.dropout(lstm_out)\n",
        "        out = self.fc(out)\n",
        "        \n",
        "        # sigmoid function\n",
        "        sig_out = self.sig(out)\n",
        "        \n",
        "        # reshape to be batch_size first\n",
        "        sig_out = sig_out.view(batch_size, -1)\n",
        "\n",
        "        sig_out = sig_out[:, -1] # get last batch of labels\n",
        "        \n",
        "        # return last sigmoid output and hidden state\n",
        "        return sig_out, hidden\n",
        "        \n",
        "        \n",
        "    def init_hidden(self, batch_size):\n",
        "        ''' Initializes hidden state '''\n",
        "        # Create two new tensors with sizes n_layers x batch_size x hidden_dim,\n",
        "        # initialized to zero, for hidden state and cell state of LSTM\n",
        "        h0 = torch.zeros((self.no_layers,batch_size,self.hidden_dim)).to(device)\n",
        "        c0 = torch.zeros((self.no_layers,batch_size,self.hidden_dim)).to(device)\n",
        "        hidden = (h0,c0)\n",
        "        return hidden\n",
        "is_cuda = torch.cuda.is_available()\n",
        "\n",
        "# If we have a GPU available, we'll set our device to GPU. We'll use this device variable later in our code.\n",
        "if is_cuda:\n",
        "    device = torch.device(\"cuda\")\n",
        "    print(\"GPU is available\")\n",
        "else:\n",
        "    device = torch.device(\"cpu\")\n",
        "    print(\"GPU not available, CPU used\")\n",
        "\n",
        "no_layers = 2\n",
        "vocab_size = len(vocab) + 1 #extra 1 for padding\n",
        "embedding_dim = 64\n",
        "output_dim = 1\n",
        "hidden_dim = 256\n",
        "\n",
        "\n",
        "model = SentimentRNN(no_layers,vocab_size,hidden_dim,embedding_dim,drop_prob=0.5)\n",
        "\n",
        "#moving to gpu\n",
        "model.to(device)\n",
        "\n",
        "print(model)"
      ],
      "metadata": {
        "colab": {
          "base_uri": "https://localhost:8080/"
        },
        "id": "xNHmlojPCkq7",
        "outputId": "5712c8c0-d52b-4224-d154-6951ff189094"
      },
      "execution_count": 10,
      "outputs": [
        {
          "output_type": "stream",
          "name": "stdout",
          "text": [
            "GPU is available\n",
            "SentimentRNN(\n",
            "  (embedding): Embedding(1001, 64)\n",
            "  (lstm): LSTM(64, 256, num_layers=2, batch_first=True)\n",
            "  (dropout): Dropout(p=0.3, inplace=False)\n",
            "  (fc): Linear(in_features=256, out_features=1, bias=True)\n",
            "  (sig): Sigmoid()\n",
            ")\n"
          ]
        }
      ]
    },
    {
      "cell_type": "code",
      "source": [
        "# loss and optimization functions\n",
        "lr=0.001\n",
        "\n",
        "criterion = nn.BCELoss()\n",
        "\n",
        "optimizer = torch.optim.Adam(model.parameters(), lr=lr)\n",
        "\n",
        "# function to predict accuracy\n",
        "def acc(pred,label):\n",
        "    pred = torch.round(pred.squeeze())\n",
        "    return torch.sum(pred == label.squeeze()).item()\n",
        "clip = 5\n",
        "epochs = 5 \n",
        "valid_loss_min = np.Inf\n",
        "# train for some number of epochs\n",
        "epoch_tr_loss,epoch_vl_loss = [],[]\n",
        "epoch_tr_acc,epoch_vl_acc = [],[]\n",
        "\n",
        "for epoch in range(epochs):\n",
        "    train_losses = []\n",
        "    train_acc = 0.0\n",
        "    model.train()\n",
        "    # initialize hidden state \n",
        "    h = model.init_hidden(batch_size)\n",
        "    for inputs, labels in train_loader:\n",
        "        \n",
        "        inputs, labels = inputs.to(device), labels.to(device)   \n",
        "        # Creating new variables for the hidden state, otherwise\n",
        "        # we'd backprop through the entire training history\n",
        "        h = tuple([each.data for each in h])\n",
        "        \n",
        "        model.zero_grad()\n",
        "        output,h = model(inputs,h)\n",
        "        \n",
        "        # calculate the loss and perform backprop\n",
        "        loss = criterion(output.squeeze(), labels.float())\n",
        "        loss.backward()\n",
        "        train_losses.append(loss.item())\n",
        "        # calculating accuracy\n",
        "        accuracy = acc(output,labels)\n",
        "        train_acc += accuracy\n",
        "        #`clip_grad_norm` helps prevent the exploding gradient problem in RNNs / LSTMs.\n",
        "        nn.utils.clip_grad_norm_(model.parameters(), clip)\n",
        "        optimizer.step()\n",
        " \n",
        "    \n",
        "        \n",
        "    val_h = model.init_hidden(batch_size)\n",
        "    val_losses = []\n",
        "    val_acc = 0.0\n",
        "    model.eval()\n",
        "    for inputs, labels in valid_loader:\n",
        "            val_h = tuple([each.data for each in val_h])\n",
        "\n",
        "            inputs, labels = inputs.to(device), labels.to(device)\n",
        "\n",
        "            output, val_h = model(inputs, val_h)\n",
        "            val_loss = criterion(output.squeeze(), labels.float())\n",
        "\n",
        "            val_losses.append(val_loss.item())\n",
        "            \n",
        "            accuracy = acc(output,labels)\n",
        "            val_acc += accuracy\n",
        "            \n",
        "    epoch_train_loss = np.mean(train_losses)\n",
        "    epoch_val_loss = np.mean(val_losses)\n",
        "    epoch_train_acc = train_acc/len(train_loader.dataset)\n",
        "    epoch_val_acc = val_acc/len(valid_loader.dataset)\n",
        "    epoch_tr_loss.append(epoch_train_loss)\n",
        "    epoch_vl_loss.append(epoch_val_loss)\n",
        "    epoch_tr_acc.append(epoch_train_acc)\n",
        "    epoch_vl_acc.append(epoch_val_acc)\n",
        "    print(f'Epoch {epoch+1}') \n",
        "    print(f'train_loss : {epoch_train_loss} val_loss : {epoch_val_loss}')\n",
        "    print(f'train_accuracy : {epoch_train_acc*100} val_accuracy : {epoch_val_acc*100}')\n",
        "    if epoch_val_loss <= valid_loss_min:\n",
        "        torch.save(model.state_dict(), 'working/state_dict.pt')\n",
        "        print('Validation loss decreased ({:.6f} --> {:.6f}).  Saving model ...'.format(valid_loss_min,epoch_val_loss))\n",
        "        valid_loss_min = epoch_val_loss\n",
        "    print(25*'==')"
      ],
      "metadata": {
        "colab": {
          "base_uri": "https://localhost:8080/"
        },
        "id": "SZVPLaPoDdvU",
        "outputId": "7d228153-ec01-44dc-fa5f-62c70cc865b7"
      },
      "execution_count": 13,
      "outputs": [
        {
          "output_type": "stream",
          "name": "stdout",
          "text": [
            "Epoch 1\n",
            "train_loss : 0.34262346759438517 val_loss : 0.339274450302124\n",
            "train_accuracy : 85.488 val_accuracy : 85.14399999999999\n",
            "Validation loss decreased (inf --> 0.339274).  Saving model ...\n",
            "==================================================\n",
            "Epoch 2\n",
            "train_loss : 0.30891206276416777 val_loss : 0.3290041715502739\n",
            "train_accuracy : 86.856 val_accuracy : 86.032\n",
            "Validation loss decreased (0.339274 --> 0.329004).  Saving model ...\n",
            "==================================================\n",
            "Epoch 3\n",
            "train_loss : 0.2797532272736232 val_loss : 0.3245178155899048\n",
            "train_accuracy : 88.53866666666667 val_accuracy : 86.088\n",
            "Validation loss decreased (0.329004 --> 0.324518).  Saving model ...\n",
            "==================================================\n",
            "Epoch 4\n",
            "train_loss : 0.2383811497737964 val_loss : 0.3501507088840008\n",
            "train_accuracy : 90.35466666666667 val_accuracy : 85.96000000000001\n",
            "==================================================\n",
            "Epoch 5\n",
            "train_loss : 0.18359137377639612 val_loss : 0.3981481117606163\n",
            "train_accuracy : 92.896 val_accuracy : 84.464\n",
            "==================================================\n"
          ]
        }
      ]
    },
    {
      "cell_type": "code",
      "source": [
        "fig = plt.figure(figsize = (20, 6))\n",
        "plt.subplot(1, 2, 1)\n",
        "plt.plot(epoch_tr_acc, label='Train Acc')\n",
        "plt.plot(epoch_vl_acc, label='Validation Acc')\n",
        "plt.title(\"Accuracy\")\n",
        "plt.legend()\n",
        "plt.grid()\n",
        "    \n",
        "plt.subplot(1, 2, 2)\n",
        "plt.plot(epoch_tr_loss, label='Train loss')\n",
        "plt.plot(epoch_vl_loss, label='Validation loss')\n",
        "plt.title(\"Loss\")\n",
        "plt.legend()\n",
        "plt.grid()\n",
        "\n",
        "plt.show()\n",
        "plt.savefig(\"model1.png\")"
      ],
      "metadata": {
        "colab": {
          "base_uri": "https://localhost:8080/",
          "height": 248
        },
        "id": "unfu6sCTDlAe",
        "outputId": "aacc37ae-4ee1-464d-c3cd-85087c2c301f"
      },
      "execution_count": 16,
      "outputs": [
        {
          "output_type": "display_data",
          "data": {
            "text/plain": [
              "<Figure size 1440x432 with 2 Axes>"
            ],
            "image/png": "[encoded data removed]"
          },
          "metadata": {
            "needs_background": "light"
          }
        },
        {
          "output_type": "display_data",
          "data": {
            "text/plain": [
              "<Figure size 432x288 with 0 Axes>"
            ]
          },
          "metadata": {}
        }
      ]
    },
    {
      "cell_type": "code",
      "source": [
        "def predict_text(text):\n",
        "        word_seq = np.array([vocab[preprocess_string(word)] for word in text.split() \n",
        "                         if preprocess_string(word) in vocab.keys()])\n",
        "        word_seq = np.expand_dims(word_seq,axis=0)\n",
        "        pad =  torch.from_numpy(padding_(word_seq,500))\n",
        "        inputs = pad.to(device)\n",
        "        batch_size = 1\n",
        "        h = model.init_hidden(batch_size)\n",
        "        h = tuple([each.data for each in h])\n",
        "        output, h = model(inputs, h)\n",
        "        return(output.item())\n",
        "\n",
        "index = 30\n",
        "print(df['review'][index])\n",
        "print('='*70)\n",
        "print(f'Actual sentiment is  : {df[\"sentiment\"][index]}')\n",
        "print('='*70)\n",
        "pro = predict_text(df['review'][index])\n",
        "status = \"positive\" if pro > 0.5 else \"negative\"\n",
        "pro = (1 - pro) if status == \"negative\" else pro\n",
        "print(f'Predicted sentiment is {status} with a probability of {pro}')\n",
        "\n"
      ],
      "metadata": {
        "colab": {
          "base_uri": "https://localhost:8080/"
        },
        "id": "8re24gj8Dd5M",
        "outputId": "14849b8f-5356-4368-c58e-21d9e1176813"
      },
      "execution_count": 17,
      "outputs": [
        {
          "output_type": "stream",
          "name": "stdout",
          "text": [
            "Taut and organically gripping, Edward Dmytryk's Crossfire is a distinctive suspense thriller, an unlikely \"message\" movie using the look and devices of the noir cycle.<br /><br />Bivouacked in Washington, DC, a company of soldiers cope with their restlessness by hanging out in bars. Three of them end up at a stranger's apartment where Robert Ryan, drunk and belligerent, beats their host (Sam Levene) to death because he happens to be Jewish. Police detective Robert Young investigates with the help of Robert Mitchum, who's assigned to Ryan's outfit. Suspicion falls on the second of the three (George Cooper), who has vanished. Ryan slays the third buddy (Steve Brodie) to insure his silence before Young closes in.<br /><br />Abetted by a superior script by John Paxton, Dmytryk draws precise performances from his three starring Bobs. Ryan, naturally, does his prototypical Angry White Male (and to the hilt), while Mitchum underplays with his characteristic alert nonchalance (his role, however, is not central); Young may never have been better. Gloria Grahame gives her first fully-fledged rendition of the smart-mouthed, vulnerable tramp, and, as a sad sack who's leeched into her life, Paul Kelly haunts us in a small, peripheral role that he makes memorable.<br /><br />The politically engaged Dmytryk perhaps inevitably succumbs to sermonizing, but it's pretty much confined to Young's reminiscence of how his Irish grandfather died at the hands of bigots a century earlier (thus, incidentally, stretching chronology to the limit). At least there's no attempt to render an explanation, however glib, of why Ryan hates Jews (and hillbillies and...).<br /><br />Curiously, Crossfire survives even the major change wrought upon it -- the novel it's based on (Richard Brooks' The Brick Foxhole) dealt with a gay-bashing murder. But homosexuality in 1947 was still Beyond The Pale. News of the Holocaust had, however, begun to emerge from the ashes of Europe, so Hollywood felt emboldened to register its protest against anti-Semitism (the studios always quaked at the prospect of offending any potential ticket buyer).<br /><br />But while the change from homophobia to anti-Semitism works in general, the specifics don't fit so smoothly. The victim's chatting up a lonesome, drunk young soldier then inviting him back home looks odd, even though (or especially since) there's a girlfriend in tow. It raises the question whether this scenario was retained inadvertently or left in as a discreet tip-off to the original engine generating Ryan's murderous rage.\n",
            "======================================================================\n",
            "Actual sentiment is  : positive\n",
            "======================================================================\n",
            "Predicted sentiment is positive with a probability of 0.9103707671165466\n"
          ]
        }
      ]
    },
    {
      "cell_type": "code",
      "source": [
        "index = 32\n",
        "print(df['review'][index])\n",
        "print('='*70)\n",
        "print(f'Actual sentiment is  : {df[\"sentiment\"][index]}')\n",
        "print('='*70)\n",
        "pro = predict_text(df['review'][index])\n",
        "status = \"positive\" if pro > 0.5 else \"negative\"\n",
        "pro = (1 - pro) if status == \"negative\" else pro\n",
        "print(f'predicted sentiment is {status} with a probability of {pro}')"
      ],
      "metadata": {
        "colab": {
          "base_uri": "https://localhost:8080/"
        },
        "id": "JP_mbXa8DeDt",
        "outputId": "cc46a864-89a5-4675-f88f-40a7483fbfef"
      },
      "execution_count": 18,
      "outputs": [
        {
          "output_type": "stream",
          "name": "stdout",
          "text": [
            "My first exposure to the Templarios & not a good one. I was excited to find this title among the offerings from Anchor Bay Video, which has brought us other cult classics such as \"Spider Baby\". The print quality is excellent, but this alone can't hide the fact that the film is deadly dull. There's a thrilling opening sequence in which the villagers exact a terrible revenge on the Templars (& set the whole thing in motion), but everything else in the movie is slow, ponderous &, ultimately, unfulfilling. Adding insult to injury: the movie was dubbed, not subtitled, as promised on the video jacket.\n",
            "======================================================================\n",
            "Actual sentiment is  : negative\n",
            "======================================================================\n",
            "predicted sentiment is negative with a probability of 0.9705355875194073\n"
          ]
        }
      ]
    },
    {
      "cell_type": "code",
      "source": [
        "!pip install pyprind"
      ],
      "metadata": {
        "colab": {
          "base_uri": "https://localhost:8080/"
        },
        "id": "FzSZzngxPZnm",
        "outputId": "d59a0907-8e73-4647-c80d-c970b6d9ada8"
      },
      "execution_count": 20,
      "outputs": [
        {
          "output_type": "stream",
          "name": "stdout",
          "text": [
            "Collecting pyprind\n",
            "  Downloading PyPrind-2.11.3-py2.py3-none-any.whl (8.4 kB)\n",
            "Installing collected packages: pyprind\n",
            "Successfully installed pyprind-2.11.3\n"
          ]
        }
      ]
    },
    {
      "cell_type": "code",
      "source": [
        "import pyprind\n",
        "import pandas as pd\n",
        "from string import punctuation\n",
        "import re\n",
        "import numpy as np\n",
        "df = pd.read_csv('IMDB.csv', encoding='utf-8')\n",
        "\n",
        "from collections import Counter\n",
        "counts = Counter()\n",
        "pbar = pyprind.ProgBar(len(df['review']), \\\n",
        "            title='Counting words occurrences')\n",
        "\n",
        "for i,review in enumerate(df['review']):\n",
        "    text = ''.join([c if c not in punctuation else ' '+c+' ' \\\n",
        "                            for c in review]).lower()\n",
        "    df.loc[i,'review'] = text\n",
        "    pbar.update()\n",
        "    counts.update(text.split())\n",
        "\n",
        "## Create a mapping\n",
        "## Map each unique word to an integer\n",
        "word_counts = sorted(counts, key=counts.get, reverse=True)\n",
        "print(word_counts[:5])"
      ],
      "metadata": {
        "colab": {
          "base_uri": "https://localhost:8080/"
        },
        "id": "naj168uQHmBr",
        "outputId": "9f0d2535-613e-40cd-b195-4e1f94cef0d9"
      },
      "execution_count": 45,
      "outputs": [
        {
          "output_type": "stream",
          "name": "stderr",
          "text": [
            "Counting words occurrences\n",
            "0% [##############################] 100% | ETA: 00:00:00"
          ]
        },
        {
          "output_type": "stream",
          "name": "stdout",
          "text": [
            "['the', '.', ',', 'and', 'a']\n"
          ]
        },
        {
          "output_type": "stream",
          "name": "stderr",
          "text": [
            "\n",
            "Total time elapsed: 00:00:22\n"
          ]
        }
      ]
    },
    {
      "cell_type": "code",
      "source": [
        "word_to_int = {word: ii for ii, word in enumerate(word_counts, 1)}\n",
        "\n",
        "mapped_reviews = []\n",
        "pbar = pyprind.ProgBar(len(df['review']), \\\n",
        "                 title='Map reviews to ints')\n",
        "for review in df['review']:\n",
        "        mapped_reviews.append([word_to_int[word] \\\n",
        "                    for word in review.split()])\n",
        "        pbar.update()\n",
        "\n",
        "## Define same-length sequences\n",
        "## if sequence length < 200: left-pad with zeros\n",
        "## if sequence length > 200: use the last 200 elements\n",
        "\n",
        "sequence_length = 200 ## (Known as T in our RNN formulas)\n",
        "sequences = np.zeros((len(mapped_reviews), sequence_length), dtype=int)\n",
        "\n",
        "for i, row in enumerate(mapped_reviews):\n",
        "         review_arr = np.array(row)\n",
        "         sequences[i, -len(row):] = review_arr[-sequence_length:]\n",
        "\n",
        "X_train = sequences[:25000,:]\n",
        "y_train = df.loc[:25000, 'sentiment'].values\n",
        "X_test = sequences[25000:,:]\n",
        "y_test = df.loc[25000:, 'sentiment'].values\n",
        "\n",
        "np.random.seed(123) # for reproducibility\n",
        "## Define a function to generate mini-batches:\n",
        "def create_batch_generator(x, y=None, batch_size=64):\n",
        "    n_batches = len(x)//batch_size\n",
        "    x = x[:n_batches*batch_size]\n",
        "    if y is not None:\n",
        "        y = y[:n_batches*batch_size]\n",
        "    for ii in range(0, len(x), batch_size):\n",
        "        if y is not None:\n",
        "            yield x[ii:ii+batch_size], y[ii:ii+batch_size]\n",
        "        else:\n",
        "            yield x[ii:ii+batch_size]\n",
        "import tensorflow as tf\n",
        "class SentimentRNN(object):\n",
        "    def __init__(self, n_words, seq_len=200, lstm_size=256, num_layers=1, batch_size=64,\n",
        "                learning_rate=0.0001, embed_size=200):\n",
        "        self.n_words = n_words\n",
        "        self.seq_len = seq_len\n",
        "        self.lstm_size = lstm_size ## number of hidden units\n",
        "        self.num_layers = num_layers\n",
        "        self.batch_size = batch_size\n",
        "        self.learning_rate = learning_rate\n",
        "        self.embed_size = embed_size\n",
        "        \n",
        "        self.g = tf.Graph()\n",
        "        with self.g.as_default():\n",
        "            #tf.set_random_seed(123)\n",
        "            self.build()\n",
        "            self.saver = tf.compat.v1.train.Saver()\n",
        "            self.init_op = tf.compat.v1.global_variables_initializer()\n",
        "    \n",
        "    def build(self):\n",
        "        ## Define the placeholders\n",
        "        tf_x = tf.compat.v1.placeholder(tf.int32, shape=(self.batch_size, self.seq_len), name='tf_x')\n",
        "        tf_y = tf.compat.v1.placeholder(tf.float32, shape=(self.batch_size), name='tf_y')\n",
        "        tf_keepprob = tf.compat.v1.placeholder(tf.float32, name='tf_keepprob')\n",
        "        \n",
        "        ## Create the embedding layer\n",
        "        embedding = tf.Variable(tf.random.uniform((self.n_words, self.embed_size),\n",
        "                                minval=-1, maxval=1), name='embedding')\n",
        "        embed_x = tf.nn.embedding_lookup(embedding, tf_x, name='embeded_x')\n",
        "        ## Define LSTM cell and stack them together\n",
        "        cells = tf.compat.v1.nn.rnn_cell.MultiRNNCell(\n",
        "                        [tf.compat.v1.nn.rnn_cell.DropoutWrapper( \n",
        "                                        tf.compat.v1.nn.rnn_cell.BasicLSTMCell(self.lstm_size),\n",
        "                                        output_keep_prob=tf_keepprob)\n",
        "                                        for i in range(self.num_layers)])\n",
        "        ## Define the initial state:\n",
        "        self.initial_state = cells.zero_state(self.batch_size, tf.float32)\n",
        "        print(' << initial state >> ', self.initial_state)\n",
        "        lstm_outputs, self.final_state = tf.compat.v1.nn.dynamic_rnn(cells, embed_x,\n",
        "                                                initial_state=self.initial_state)\n",
        "        ## Note: lstm_outputs shape:\n",
        "        ## [batch_size, max_time, cells.output_size]\n",
        "        print('\\n << lstm_output >> ', lstm_outputs)\n",
        "        print('\\n << final state >> ', self.final_state)\n",
        "        logits = tf.compat.v1.layers.dense(inputs=lstm_outputs[:, -1],\n",
        "                            units=1, activation=None, name='logits')\n",
        "        logits = tf.squeeze(logits, name='logits_squeezed')\n",
        "        print ('\\n << logits >> ', logits)\n",
        "        y_proba = tf.nn.sigmoid(logits, name='probabilities')\n",
        "        predictions = {\n",
        "                'probabilities': y_proba,\n",
        "                'labels' : tf.cast(tf.round(y_proba), tf.int32,\n",
        "                name='labels')}\n",
        "        print('\\n << predictions >> ', predictions)\n",
        "        \n",
        "        ## Define the cost function\n",
        "        cost = tf.reduce_mean(\n",
        "                tf.nn.sigmoid_cross_entropy_with_logits(\n",
        "                labels=tf_y, logits=logits), name='cost')\n",
        "        ## Define the optimizer\n",
        "        optimizer = tf.compat.v1.train.AdamOptimizer(self.learning_rate) \n",
        "        train_op = optimizer.minimize(cost, name='train_op')\n",
        "        \n",
        "    def train(self, X_train, y_train, num_epochs):\n",
        "        with tf.compat.v1.Session(graph=self.g) as sess:\n",
        "            sess.run(self.init_op)\n",
        "            iteration = 1\n",
        "            for epoch in range(num_epochs):\n",
        "                state = sess.run(self.initial_state)\n",
        "                \n",
        "                for batch_x, batch_y in create_batch_generator(\n",
        "                        X_train, y_train, self.batch_size):\n",
        "                    feed = {'tf_x:0': batch_x, 'tf_y:0': batch_y,\n",
        "                        'tf_keepprob:0': 0.5, self.initial_state : state}\n",
        "                    loss, _, state = sess.run(\n",
        "                        ['cost:0', 'train_op', self.final_state],\n",
        "                        feed_dict=feed)\n",
        "                    if iteration % 20 == 0:\n",
        "                        print(\"Epoch: %d/%d Iteration: %d \"\n",
        "                                \"| Train loss: %.5f\" % (\n",
        "                        epoch + 1, num_epochs, iteration, loss))\n",
        "                    iteration += 1\n",
        "                if (epoch+1)%10 == 0:\n",
        "                    self.saver.save(sess,\"model/sentiment-%d.ckpt\" % epoch)\n",
        "        \n",
        "    def predict(self, X_data, return_proba=False):\n",
        "        preds = []\n",
        "        with tf.compat.v1.Session(graph = self.g) as sess:\n",
        "            self.saver.restore(\n",
        "                sess, tf.train.latest_checkpoint('./model/'))\n",
        "            test_state = sess.run(self.initial_state)\n",
        "            for ii, batch_x in enumerate(create_batch_generator(\n",
        "                    X_data, None, batch_size=self.batch_size), 1):\n",
        "                feed = {'tf_x:0' : batch_x,\n",
        "                            'tf_keepprob:0' : 1.0,\n",
        "                        self.initial_state : test_state}\n",
        "                if return_proba:\n",
        "                    pred, test_state = sess.run(\n",
        "                            ['probabilities:0', self.final_state], feed_dict=feed)\n",
        "                else:\n",
        "                    pred, test_state = sess.run(\n",
        "                            ['labels:0', self.final_state],feed_dict=feed)\n",
        "                preds.append(pred)\n",
        "        return np.concatenate(preds)"
      ],
      "metadata": {
        "colab": {
          "base_uri": "https://localhost:8080/"
        },
        "id": "Jqiv46PrPpzI",
        "outputId": "1cae1655-de4c-4185-c0ec-7c3d485230ae"
      },
      "execution_count": 23,
      "outputs": [
        {
          "output_type": "stream",
          "name": "stderr",
          "text": [
            "Map reviews to ints\n",
            "0% [##############################] 100% | ETA: 00:00:00\n",
            "Total time elapsed: 00:00:06\n"
          ]
        }
      ]
    },
    {
      "cell_type": "code",
      "source": [
        "n_words = max(list(word_to_int.values())) + 1\n",
        "\n",
        "rnn = SentimentRNN(n_words=n_words,\n",
        " seq_len=sequence_length,\n",
        " embed_size=256, lstm_size=128,\n",
        "    num_layers=1,\n",
        "    batch_size=100,\n",
        "    learning_rate=0.001)\n",
        "\n",
        "rnn.train(X_train, y_train, num_epochs=100)"
      ],
      "metadata": {
        "colab": {
          "base_uri": "https://localhost:8080/",
          "height": 800
        },
        "id": "BABZzdbaPqBe",
        "outputId": "1a60847d-9f5b-4448-e373-19f41f373b3d"
      },
      "execution_count": 24,
      "outputs": [
        {
          "output_type": "stream",
          "name": "stdout",
          "text": [
            "WARNING:tensorflow:`tf.nn.rnn_cell.MultiRNNCell` is deprecated. This class is equivalent as `tf.keras.layers.StackedRNNCells`, and will be replaced by that in Tensorflow 2.0.\n",
            " << initial state >>  (LSTMStateTuple(c=<tf.Tensor 'MultiRNNCellZeroState/DropoutWrapperZeroState/BasicLSTMCellZeroState/zeros:0' shape=(100, 128) dtype=float32>, h=<tf.Tensor 'MultiRNNCellZeroState/DropoutWrapperZeroState/BasicLSTMCellZeroState/zeros_1:0' shape=(100, 128) dtype=float32>),)\n",
            "WARNING:tensorflow:From <ipython-input-23-dd11686b3a34>:76: dynamic_rnn (from tensorflow.python.ops.rnn) is deprecated and will be removed in a future version.\n",
            "Instructions for updating:\n",
            "Please use `keras.layers.RNN(cell)`, which is equivalent to this API\n",
            "WARNING:tensorflow:From /usr/local/lib/python3.7/dist-packages/keras/layers/legacy_rnn/rnn_cell_impl.py:760: calling Zeros.__init__ (from tensorflow.python.ops.init_ops) with dtype is deprecated and will be removed in a future version.\n",
            "Instructions for updating:\n",
            "Call initializer instance with the dtype argument instead of passing it to the constructor\n"
          ]
        },
        {
          "output_type": "stream",
          "name": "stderr",
          "text": [
            "/usr/local/lib/python3.7/dist-packages/ipykernel_launcher.py:71: UserWarning: `tf.nn.rnn_cell.BasicLSTMCell` is deprecated and will be removed in a future version. This class is equivalent as `tf.keras.layers.LSTMCell`, and will be replaced by that in Tensorflow 2.0.\n",
            "/usr/local/lib/python3.7/dist-packages/keras/layers/legacy_rnn/rnn_cell_impl.py:756: UserWarning: `layer.add_variable` is deprecated and will be removed in a future version. Please use `layer.add_weight` method instead.\n",
            "  shape=[input_depth + h_depth, 4 * self._num_units])\n",
            "/usr/local/lib/python3.7/dist-packages/keras/layers/legacy_rnn/rnn_cell_impl.py:760: UserWarning: `layer.add_variable` is deprecated and will be removed in a future version. Please use `layer.add_weight` method instead.\n",
            "  initializer=tf.compat.v1.zeros_initializer(dtype=self.dtype))\n"
          ]
        },
        {
          "output_type": "stream",
          "name": "stdout",
          "text": [
            "\n",
            " << lstm_output >>  Tensor(\"rnn/transpose_1:0\", shape=(100, 200, 128), dtype=float32)\n",
            "\n",
            " << final state >>  (LSTMStateTuple(c=<tf.Tensor 'rnn/while/Identity_4:0' shape=(100, 128) dtype=float32>, h=<tf.Tensor 'rnn/while/Identity_5:0' shape=(100, 128) dtype=float32>),)\n",
            "\n",
            " << logits >>  Tensor(\"logits_squeezed:0\", shape=(100,), dtype=float32)\n",
            "\n",
            " << predictions >>  {'probabilities': <tf.Tensor 'probabilities:0' shape=(100,) dtype=float32>, 'labels': <tf.Tensor 'labels:0' shape=(100,) dtype=int32>}\n"
          ]
        },
        {
          "output_type": "stream",
          "name": "stderr",
          "text": [
            "/usr/local/lib/python3.7/dist-packages/ipykernel_launcher.py:82: UserWarning: `tf.layers.dense` is deprecated and will be removed in a future version. Please use `tf.keras.layers.Dense` instead.\n",
            "/usr/local/lib/python3.7/dist-packages/keras/legacy_tf_layers/core.py:261: UserWarning: `layer.apply` is deprecated and will be removed in a future version. Please use `layer.__call__` method instead.\n",
            "  return layer.apply(inputs)\n"
          ]
        },
        {
          "output_type": "error",
          "ename": "ValueError",
          "evalue": "ignored",
          "traceback": [
            "\u001b[0;31m---------------------------------------------------------------------------\u001b[0m",
            "\u001b[0;31mValueError\u001b[0m                                Traceback (most recent call last)",
            "\u001b[0;32m<ipython-input-24-2cece6c46fa7>\u001b[0m in \u001b[0;36m<module>\u001b[0;34m()\u001b[0m\n\u001b[1;32m      8\u001b[0m     learning_rate=0.001)\n\u001b[1;32m      9\u001b[0m \u001b[0;34m\u001b[0m\u001b[0m\n\u001b[0;32m---> 10\u001b[0;31m \u001b[0mrnn\u001b[0m\u001b[0;34m.\u001b[0m\u001b[0mtrain\u001b[0m\u001b[0;34m(\u001b[0m\u001b[0mX_train\u001b[0m\u001b[0;34m,\u001b[0m \u001b[0my_train\u001b[0m\u001b[0;34m,\u001b[0m \u001b[0mnum_epochs\u001b[0m\u001b[0;34m=\u001b[0m\u001b[0;36m100\u001b[0m\u001b[0;34m)\u001b[0m\u001b[0;34m\u001b[0m\u001b[0;34m\u001b[0m\u001b[0m\n\u001b[0m",
            "\u001b[0;32m<ipython-input-23-dd11686b3a34>\u001b[0m in \u001b[0;36mtrain\u001b[0;34m(self, X_train, y_train, num_epochs)\u001b[0m\n\u001b[1;32m    111\u001b[0m                     loss, _, state = sess.run(\n\u001b[1;32m    112\u001b[0m                         \u001b[0;34m[\u001b[0m\u001b[0;34m'cost:0'\u001b[0m\u001b[0;34m,\u001b[0m \u001b[0;34m'train_op'\u001b[0m\u001b[0;34m,\u001b[0m \u001b[0mself\u001b[0m\u001b[0;34m.\u001b[0m\u001b[0mfinal_state\u001b[0m\u001b[0;34m]\u001b[0m\u001b[0;34m,\u001b[0m\u001b[0;34m\u001b[0m\u001b[0;34m\u001b[0m\u001b[0m\n\u001b[0;32m--> 113\u001b[0;31m                         feed_dict=feed)\n\u001b[0m\u001b[1;32m    114\u001b[0m                     \u001b[0;32mif\u001b[0m \u001b[0miteration\u001b[0m \u001b[0;34m%\u001b[0m \u001b[0;36m20\u001b[0m \u001b[0;34m==\u001b[0m \u001b[0;36m0\u001b[0m\u001b[0;34m:\u001b[0m\u001b[0;34m\u001b[0m\u001b[0;34m\u001b[0m\u001b[0m\n\u001b[1;32m    115\u001b[0m                         print(\"Epoch: %d/%d Iteration: %d \"\n",
            "\u001b[0;32m/usr/local/lib/python3.7/dist-packages/tensorflow/python/client/session.py\u001b[0m in \u001b[0;36mrun\u001b[0;34m(self, fetches, feed_dict, options, run_metadata)\u001b[0m\n\u001b[1;32m    966\u001b[0m     \u001b[0;32mtry\u001b[0m\u001b[0;34m:\u001b[0m\u001b[0;34m\u001b[0m\u001b[0;34m\u001b[0m\u001b[0m\n\u001b[1;32m    967\u001b[0m       result = self._run(None, fetches, feed_dict, options_ptr,\n\u001b[0;32m--> 968\u001b[0;31m                          run_metadata_ptr)\n\u001b[0m\u001b[1;32m    969\u001b[0m       \u001b[0;32mif\u001b[0m \u001b[0mrun_metadata\u001b[0m\u001b[0;34m:\u001b[0m\u001b[0;34m\u001b[0m\u001b[0;34m\u001b[0m\u001b[0m\n\u001b[1;32m    970\u001b[0m         \u001b[0mproto_data\u001b[0m \u001b[0;34m=\u001b[0m \u001b[0mtf_session\u001b[0m\u001b[0;34m.\u001b[0m\u001b[0mTF_GetBuffer\u001b[0m\u001b[0;34m(\u001b[0m\u001b[0mrun_metadata_ptr\u001b[0m\u001b[0;34m)\u001b[0m\u001b[0;34m\u001b[0m\u001b[0;34m\u001b[0m\u001b[0m\n",
            "\u001b[0;32m/usr/local/lib/python3.7/dist-packages/tensorflow/python/client/session.py\u001b[0m in \u001b[0;36m_run\u001b[0;34m(self, handle, fetches, feed_dict, options, run_metadata)\u001b[0m\n\u001b[1;32m   1158\u001b[0m             \u001b[0mfeed_handles\u001b[0m\u001b[0;34m[\u001b[0m\u001b[0msubfeed_t\u001b[0m\u001b[0;34m.\u001b[0m\u001b[0mref\u001b[0m\u001b[0;34m(\u001b[0m\u001b[0;34m)\u001b[0m\u001b[0;34m]\u001b[0m \u001b[0;34m=\u001b[0m \u001b[0msubfeed_val\u001b[0m\u001b[0;34m\u001b[0m\u001b[0;34m\u001b[0m\u001b[0m\n\u001b[1;32m   1159\u001b[0m           \u001b[0;32melse\u001b[0m\u001b[0;34m:\u001b[0m\u001b[0;34m\u001b[0m\u001b[0;34m\u001b[0m\u001b[0m\n\u001b[0;32m-> 1160\u001b[0;31m             \u001b[0mnp_val\u001b[0m \u001b[0;34m=\u001b[0m \u001b[0mnp\u001b[0m\u001b[0;34m.\u001b[0m\u001b[0masarray\u001b[0m\u001b[0;34m(\u001b[0m\u001b[0msubfeed_val\u001b[0m\u001b[0;34m,\u001b[0m \u001b[0mdtype\u001b[0m\u001b[0;34m=\u001b[0m\u001b[0msubfeed_dtype\u001b[0m\u001b[0;34m)\u001b[0m\u001b[0;34m\u001b[0m\u001b[0;34m\u001b[0m\u001b[0m\n\u001b[0m\u001b[1;32m   1161\u001b[0m \u001b[0;34m\u001b[0m\u001b[0m\n\u001b[1;32m   1162\u001b[0m           if (not is_tensor_handle_feed and\n",
            "\u001b[0;31mValueError\u001b[0m: could not convert string to float: 'positive'"
          ]
        }
      ]
    },
    {
      "cell_type": "code",
      "source": [
        "## Test: \n",
        "preds = rnn.predict(X_test)\n",
        "y_true = y_test[:len(preds)]\n",
        "print('Test Acc.: %.3f' % (\n",
        "      np.sum(preds == y_true) / len(y_true)))"
      ],
      "metadata": {
        "id": "-Ptd4yBzQNUU"
      },
      "execution_count": null,
      "outputs": []
    },
    {
      "cell_type": "code",
      "source": [
        "## Get probabilities:\n",
        "proba = rnn.predict(X_test, return_proba=True)"
      ],
      "metadata": {
        "id": "fa8SUD35QNY4"
      },
      "execution_count": null,
      "outputs": []
    },
    {
      "cell_type": "code",
      "source": [
        "import tensorflow as tf\n",
        "class SentimentRNN(object):\n",
        "  def __init__(self, n_words, seq_len=200, lstm_size=256, num_layers=1, batch_size=64,learning_rate=0.0001, embed_size=200):\n",
        "    self.n_words = n_words\n",
        "    self.seq_len = seq_len\n",
        "    self.lstm_size = lstm_size ## number of hidden units\n",
        "    self.num_layers = num_layers\n",
        "    self.batch_size = batch_size\n",
        "    self.learning_rate = learning_rate\n",
        "    self.embed_size = embed_size\n",
        "    self.g = tf.Graph()\n",
        "    with self.g.as_default():\n",
        "        tf.set_random_seed(123)\n",
        "        self.build()\n",
        "        self.saver = tf.train.Saver()\n",
        "        self.init_op = tf.global_variables_initializer()"
      ],
      "metadata": {
        "id": "Py1sWLuuQvJJ"
      },
      "execution_count": 27,
      "outputs": []
    },
    {
      "cell_type": "code",
      "source": [
        "!pip install pyprind"
      ],
      "metadata": {
        "colab": {
          "base_uri": "https://localhost:8080/"
        },
        "id": "dUYU4JlIwPYv",
        "outputId": "9cacbc39-d731-431a-c5a3-5422f41230d6"
      },
      "execution_count": 2,
      "outputs": [
        {
          "output_type": "stream",
          "name": "stdout",
          "text": [
            "Collecting pyprind\n",
            "  Downloading PyPrind-2.11.3-py2.py3-none-any.whl (8.4 kB)\n",
            "Installing collected packages: pyprind\n",
            "Successfully installed pyprind-2.11.3\n"
          ]
        }
      ]
    },
    {
      "cell_type": "code",
      "source": [
        "import pyprind\n",
        "import pandas as pd\n",
        "from string import punctuation\n",
        "import re\n",
        "import numpy as np\n",
        "df = pd.read_csv('movie_data.csv', encoding='utf-8',engine='python',error_bad_lines=False)\n",
        "\n",
        "from collections import Counter\n",
        "counts = Counter()\n",
        "pbar = pyprind.ProgBar(len(df['review']), \\\n",
        "            title='Counting words occurrences')\n",
        "\n",
        "for i,review in enumerate(df['review']):\n",
        "    text = ''.join([c if c not in punctuation else ' '+c+' ' \\\n",
        "                            for c in review]).lower()\n",
        "    df.loc[i,'review'] = text\n",
        "    pbar.update()\n",
        "    counts.update(text.split())\n",
        "\n",
        "## Create a mapping\n",
        "## Map each unique word to an integer\n",
        "word_counts = sorted(counts, key=counts.get, reverse=True)\n",
        "print(word_counts[:5])"
      ],
      "metadata": {
        "colab": {
          "base_uri": "https://localhost:8080/"
        },
        "id": "zzP8wAWGdXWo",
        "outputId": "51fda2e5-fb01-45ee-8e0f-a949671b9e2f"
      },
      "execution_count": 47,
      "outputs": [
        {
          "output_type": "stream",
          "name": "stderr",
          "text": [
            "/usr/local/lib/python3.7/dist-packages/IPython/core/interactiveshell.py:2882: FutureWarning: The error_bad_lines argument has been deprecated and will be removed in a future version.\n",
            "\n",
            "\n",
            "  exec(code_obj, self.user_global_ns, self.user_ns)\n",
            "Skipping line 49330: unexpected end of data\n",
            "Counting words occurrences\n",
            "0% [##############################] 100% | ETA: 00:00:00"
          ]
        },
        {
          "output_type": "stream",
          "name": "stdout",
          "text": [
            "['the', '.', ',', 'and', 'a']\n"
          ]
        },
        {
          "output_type": "stream",
          "name": "stderr",
          "text": [
            "\n",
            "Total time elapsed: 00:03:10\n"
          ]
        }
      ]
    },
    {
      "cell_type": "code",
      "source": [
        "word_to_int = {word: ii for ii, word in enumerate(word_counts, 1)}\n",
        "\n",
        "mapped_reviews = []\n",
        "pbar = pyprind.ProgBar(len(df['review']), \\\n",
        "                 title='Map reviews to ints')\n",
        "for review in df['review']:\n",
        "        mapped_reviews.append([word_to_int[word] \\\n",
        "                    for word in review.split()])\n",
        "        pbar.update()"
      ],
      "metadata": {
        "colab": {
          "base_uri": "https://localhost:8080/"
        },
        "id": "kmANPhFh3u2q",
        "outputId": "47b54b3e-71df-40dd-9966-34da871ce6b6"
      },
      "execution_count": 48,
      "outputs": [
        {
          "output_type": "stream",
          "name": "stderr",
          "text": [
            "Map reviews to ints\n",
            "0% [##############################] 100% | ETA: 00:00:00\n",
            "Total time elapsed: 00:00:03\n"
          ]
        }
      ]
    },
    {
      "cell_type": "code",
      "source": [
        "len(mapped_reviews)\n",
        "print(mapped_reviews[0])\n",
        "\n",
        "## Define same-length sequences\n",
        "## if sequence length < 200: left-pad with zeros\n",
        "## if sequence length > 200: use the last 200 elements\n",
        "\n",
        "sequence_length = 200 ## (Known as T in our RNN formulas)\n",
        "sequences = np.zeros((len(mapped_reviews), sequence_length), dtype=int)\n",
        "\n",
        "for i, row in enumerate(mapped_reviews):\n",
        "         review_arr = np.array(row)\n",
        "         sequences[i, -len(row):] = review_arr[-sequence_length:]\n",
        "#print(sequences.itemsize) #4\n",
        "#sequences.shape # (50000, 200)\n",
        "#type(sequences.shape) # Tuple\n",
        "print(sequences[:,1:])\n",
        "np.add.reduce(sequences[:,1:])"
      ],
      "metadata": {
        "colab": {
          "base_uri": "https://localhost:8080/"
        },
        "id": "MTWmlV1K29b6",
        "outputId": "c2d5b648-8c96-4282-846e-e6ddfbe7afe0"
      },
      "execution_count": 49,
      "outputs": [
        {
          "output_type": "stream",
          "name": "stdout",
          "text": [
            "[15, 5585, 3, 1, 2169, 3948, 26773, 30, 4816, 1571, 29, 1131, 7, 1, 316, 19, 718, 1600, 6, 6625, 752, 3, 14661, 3, 8675, 2, 33, 1, 14662, 330, 3, 3618, 6, 2089, 3, 67, 22, 1951, 15, 1, 8676, 6, 54, 340, 4, 54, 604, 4744, 15507, 2, 1723, 19, 121, 170, 323, 3, 1, 565, 950, 25577, 30, 1466, 19491, 29, 3, 47, 10, 5, 1120, 1099, 1361, 18, 58, 3035, 15, 5976, 25, 44066, 15, 717, 2, 1550, 2, 5237, 3299, 4, 1662, 7, 21358, 3, 1106, 7, 3896, 1, 436, 26, 37, 1963, 1798, 2329, 30, 3654, 3279, 29, 26, 1, 1286, 6, 507, 5, 285, 2, 1, 5495, 10585, 4, 92, 34, 2575, 107, 3, 27, 26, 1, 1458, 6, 1, 5153, 1361, 1323, 8988, 30, 623, 12589, 29, 18, 22, 15, 2740, 6, 1, 3502, 15, 1, 1355, 8, 21, 3, 44, 1887, 1, 1805, 4, 5, 5027, 6, 659, 4, 306, 7, 1003, 1, 604, 2, 12, 13, 9, 11, 12, 13, 9, 11, 20, 604, 15, 14661, 20, 10, 5, 62, 255, 24, 3, 26, 1, 308, 76, 6, 5, 604, 6, 5, 3529, 170, 174, 260, 18, 22, 2377, 45, 5, 3044, 2169, 654, 412, 22, 5, 3169, 2, 1, 973, 4, 993, 245, 347, 79, 2416, 7, 1003, 1, 604, 25, 65, 86, 1723, 170, 2, 206, 3, 5, 39589, 1361, 4, 6257, 62914, 15, 5976, 22, 494, 7, 24562, 99, 1, 4449, 830, 22, 2377, 2, 1, 927, 294, 1, 3502, 6, 950, 4, 1, 254, 499, 6, 3948, 15, 4216, 3, 27, 51, 10, 5, 586, 6, 1, 1432, 15, 1, 12394, 2, 71, 2075, 10, 1588, 2, 12, 13, 9, 11, 12, 13, 9, 11, 439, 30, 3562, 29, 85, 34, 1305]\n",
            "[[1963 1798 2329 ...   85   34 1305]\n",
            " [7372  256  173 ...    1 1974   41]\n",
            " [ 587    7 3067 ...  175   29    2]\n",
            " ...\n",
            " [   0    0    0 ...   17   24    2]\n",
            " [3003   74   10 ...   66 3719    2]\n",
            " [  90  273  937 ... 1458  852    2]]\n"
          ]
        },
        {
          "output_type": "execute_result",
          "data": {
            "text/plain": [
              "array([ 47364824,  49620701,  48166239,  47981716,  51358747,  48765857,\n",
              "        48744551,  48920028,  51297483,  50794059,  50059348,  52812494,\n",
              "        51917045,  54168965,  53518434,  53146471,  52627910,  52274234,\n",
              "        52899786,  54507531,  54286833,  54962740,  54717488,  54396502,\n",
              "        54755150,  56457658,  54285463,  56882378,  58412575,  57459787,\n",
              "        59937541,  57455679,  58191982,  60385403,  59860741,  59942899,\n",
              "        62521768,  59855906,  60644229,  61025531,  61688458,  61641634,\n",
              "        62479124,  61985891,  61584483,  64071877,  65319780,  62478217,\n",
              "        66123618,  65945090,  65334826,  63197483,  65590829,  67340444,\n",
              "        70382960,  68085061,  69943932,  69519770,  69954537,  68223057,\n",
              "        68918653,  69951102,  68622999,  68589535,  69785776,  70187915,\n",
              "        72495213,  73581861,  72833443,  71693759,  74915245,  70903744,\n",
              "        71614369,  74826032,  74821747,  72835572,  71270335,  73991233,\n",
              "        73144853,  73282995,  72108328,  73468637,  73016988,  75048177,\n",
              "        73122798,  74074614,  75434480,  73951876,  76957783,  75414881,\n",
              "        75711857,  76378153,  73916404,  74317915,  72855077,  75055835,\n",
              "        74074745,  73664559,  76888260,  75526899,  75774921,  77865019,\n",
              "        77474549,  74589342,  76312969,  76481560,  75944980,  76474518,\n",
              "        76433093,  77147799,  76646612,  75151946,  75146504,  75039223,\n",
              "        76751174,  77134242,  77108240,  78536760,  77560643,  76675401,\n",
              "        76828236,  75080000,  77627133,  75998789,  76888093,  75247620,\n",
              "        77652286,  78038415,  75768483,  74451542,  78854790,  78005062,\n",
              "        78030536,  77896432,  78432539,  77278258,  76613627,  77872825,\n",
              "        78857738,  76590472,  77418707,  74306641,  76720173,  76839164,\n",
              "        74723311,  75285865,  75832873,  77533198,  78428865,  74663240,\n",
              "        75826072,  77049281,  74512128,  72574735,  76169594,  74536301,\n",
              "        75624234,  75669070,  75092925,  78742032,  78296837,  74242681,\n",
              "        72346515,  72149918,  73120506,  73373761,  73495710,  71479626,\n",
              "        70834988,  72325096,  71315382,  73590098,  70643755,  69545123,\n",
              "        72530267,  68817413,  69905474,  68696792,  66825034,  70955916,\n",
              "        70083125,  69491930,  67098848,  72247641,  67637165,  70284647,\n",
              "        71948369,  67490482,  71051162,  71304930,  66904362,  67277498,\n",
              "        67741104,  67759435,  76194446,  63372306,  79750368, 127616058,\n",
              "        30647660])"
            ]
          },
          "metadata": {},
          "execution_count": 49
        }
      ]
    },
    {
      "cell_type": "code",
      "source": [
        "X_train = sequences[:25000,:]\n",
        "y_train = df.loc[:25000, 'sentiment'].values\n",
        "X_test = sequences[25000:,:]\n",
        "y_test = df.loc[25000:, 'sentiment'].values\n",
        "\n",
        "np.random.seed(123) # for reproducibility\n",
        "## Define a function to generate mini-batches:\n",
        "def create_batch_generator(x, y=None, batch_size=64):\n",
        "    n_batches = len(x)//batch_size\n",
        "    x = x[:n_batches*batch_size]\n",
        "    if y is not None:\n",
        "        y = y[:n_batches*batch_size]\n",
        "    for ii in range(0, len(x), batch_size):\n",
        "        if y is not None:\n",
        "            yield x[ii:ii+batch_size], y[ii:ii+batch_size]\n",
        "        else:\n",
        "            yield x[ii:ii+batch_size]"
      ],
      "metadata": {
        "id": "LImzuXf9hm_R"
      },
      "execution_count": 50,
      "outputs": []
    },
    {
      "cell_type": "code",
      "source": [
        "import tensorflow as tf\n",
        "class SentimentRNN(object):\n",
        "    def __init__(self, n_words, seq_len=200, lstm_size=256, num_layers=1, batch_size=64,\n",
        "                learning_rate=0.0001, embed_size=200):\n",
        "        self.n_words = n_words\n",
        "        self.seq_len = seq_len\n",
        "        self.lstm_size = lstm_size ## number of hidden units\n",
        "        self.num_layers = num_layers\n",
        "        self.batch_size = batch_size\n",
        "        self.learning_rate = learning_rate\n",
        "        self.embed_size = embed_size\n",
        "        \n",
        "        self.g = tf.Graph()\n",
        "        with self.g.as_default():\n",
        "            #tf.set_random_seed(123)\n",
        "            self.build()\n",
        "            self.saver = tf.compat.v1.train.Saver()\n",
        "            self.init_op = tf.compat.v1.global_variables_initializer()\n",
        "    \n",
        "    def build(self):\n",
        "        ## Define the placeholders\n",
        "        tf_x = tf.compat.v1.placeholder(tf.int32, shape=(self.batch_size, self.seq_len), name='tf_x')\n",
        "        tf_y = tf.compat.v1.placeholder(tf.float32, shape=(self.batch_size), name='tf_y')\n",
        "        tf_keepprob = tf.compat.v1.placeholder(tf.float32, name='tf_keepprob')\n",
        "        \n",
        "        ## Create the embedding layer\n",
        "        embedding = tf.Variable(tf.random.uniform((self.n_words, self.embed_size),\n",
        "                                minval=-1, maxval=1), name='embedding')\n",
        "        embed_x = tf.nn.embedding_lookup(embedding, tf_x, name='embeded_x')\n",
        "        ## Define LSTM cell and stack them together\n",
        "        cells = tf.compat.v1.nn.rnn_cell.MultiRNNCell(\n",
        "                        [tf.compat.v1.nn.rnn_cell.DropoutWrapper( \n",
        "                                        tf.compat.v1.nn.rnn_cell.BasicLSTMCell(self.lstm_size),\n",
        "                                        output_keep_prob=tf_keepprob)\n",
        "                                        for i in range(self.num_layers)])\n",
        "        ## Define the initial state:\n",
        "        self.initial_state = cells.zero_state(self.batch_size, tf.float32)\n",
        "        print(' << initial state >> ', self.initial_state)\n",
        "        lstm_outputs, self.final_state = tf.compat.v1.nn.dynamic_rnn(cells, embed_x,\n",
        "                                                initial_state=self.initial_state)\n",
        "        ## Note: lstm_outputs shape:\n",
        "        ## [batch_size, max_time, cells.output_size]\n",
        "        print('\\n << lstm_output >> ', lstm_outputs)\n",
        "        print('\\n << final state >> ', self.final_state)\n",
        "        logits = tf.compat.v1.layers.dense(inputs=lstm_outputs[:, -1],\n",
        "                            units=1, activation=None, name='logits')\n",
        "        logits = tf.squeeze(logits, name='logits_squeezed')\n",
        "        print ('\\n << logits >> ', logits)\n",
        "        y_proba = tf.nn.sigmoid(logits, name='probabilities')\n",
        "        predictions = {\n",
        "                'probabilities': y_proba,\n",
        "                'labels' : tf.cast(tf.round(y_proba), tf.int32,\n",
        "                name='labels')}\n",
        "        print('\\n << predictions >> ', predictions)\n",
        "        \n",
        "        ## Define the cost function\n",
        "        cost = tf.reduce_mean(\n",
        "                tf.nn.sigmoid_cross_entropy_with_logits(\n",
        "                labels=tf_y, logits=logits), name='cost')\n",
        "        ## Define the optimizer\n",
        "        optimizer = tf.compat.v1.train.AdamOptimizer(self.learning_rate) \n",
        "        train_op = optimizer.minimize(cost, name='train_op')\n",
        "        \n",
        "    def train(self, X_train, y_train, num_epochs):\n",
        "        with tf.compat.v1.Session(graph=self.g) as sess:\n",
        "            sess.run(self.init_op)\n",
        "            iteration = 1\n",
        "            for epoch in range(num_epochs):\n",
        "                state = sess.run(self.initial_state)\n",
        "                \n",
        "                for batch_x, batch_y in create_batch_generator(\n",
        "                        X_train, y_train, self.batch_size):\n",
        "                    feed = {'tf_x:0': batch_x, 'tf_y:0': batch_y,\n",
        "                        'tf_keepprob:0': 0.5, self.initial_state : state}\n",
        "                    loss, _, state = sess.run(\n",
        "                        ['cost:0', 'train_op', self.final_state],\n",
        "                        feed_dict=feed)\n",
        "                    if iteration % 20 == 0:\n",
        "                        print(\"Epoch: %d/%d Iteration: %d \"\n",
        "                                \"| Train loss: %.5f\" % (\n",
        "                        epoch + 1, num_epochs, iteration, loss))\n",
        "                    iteration += 1\n",
        "                if (epoch+1)%10 == 0:\n",
        "                    self.saver.save(sess,\"model/sentiment-%d.ckpt\" % epoch)\n",
        "        \n",
        "    def predict(self, X_data, return_proba=False):\n",
        "        preds = []\n",
        "        with tf.compat.v1.Session(graph = self.g) as sess:\n",
        "            self.saver.restore(\n",
        "                sess, tf.train.latest_checkpoint('./model/'))\n",
        "            test_state = sess.run(self.initial_state)\n",
        "            for ii, batch_x in enumerate(create_batch_generator(\n",
        "                    X_data, None, batch_size=self.batch_size), 1):\n",
        "                feed = {'tf_x:0' : batch_x,\n",
        "                            'tf_keepprob:0' : 1.0,\n",
        "                        self.initial_state : test_state}\n",
        "                if return_proba:\n",
        "                    pred, test_state = sess.run(\n",
        "                            ['probabilities:0', self.final_state], feed_dict=feed)\n",
        "                else:\n",
        "                    pred, test_state = sess.run(\n",
        "                            ['labels:0', self.final_state],feed_dict=feed)\n",
        "                preds.append(pred)\n",
        "        return np.concatenate(preds)"
      ],
      "metadata": {
        "id": "OYkSgIrki3tg"
      },
      "execution_count": 51,
      "outputs": []
    },
    {
      "cell_type": "code",
      "source": [
        "n_words = max(list(word_to_int.values())) + 1\n",
        "\n",
        "rnn = SentimentRNN(n_words=n_words,\n",
        " seq_len=sequence_length,\n",
        " embed_size=256, lstm_size=128,\n",
        "    num_layers=1,\n",
        "    batch_size=100,\n",
        "    learning_rate=0.001)"
      ],
      "metadata": {
        "colab": {
          "base_uri": "https://localhost:8080/"
        },
        "id": "Rm74dg5sdXlZ",
        "outputId": "8cc59490-b882-4191-ef0f-77a0db0be36a"
      },
      "execution_count": 52,
      "outputs": [
        {
          "output_type": "stream",
          "name": "stdout",
          "text": [
            "WARNING:tensorflow:`tf.nn.rnn_cell.MultiRNNCell` is deprecated. This class is equivalent as `tf.keras.layers.StackedRNNCells`, and will be replaced by that in Tensorflow 2.0.\n"
          ]
        },
        {
          "output_type": "stream",
          "name": "stderr",
          "text": [
            "/usr/local/lib/python3.7/dist-packages/ipykernel_launcher.py:35: UserWarning: `tf.nn.rnn_cell.BasicLSTMCell` is deprecated and will be removed in a future version. This class is equivalent as `tf.keras.layers.LSTMCell`, and will be replaced by that in Tensorflow 2.0.\n",
            "/usr/local/lib/python3.7/dist-packages/keras/layers/legacy_rnn/rnn_cell_impl.py:756: UserWarning: `layer.add_variable` is deprecated and will be removed in a future version. Please use `layer.add_weight` method instead.\n",
            "  shape=[input_depth + h_depth, 4 * self._num_units])\n",
            "/usr/local/lib/python3.7/dist-packages/keras/layers/legacy_rnn/rnn_cell_impl.py:760: UserWarning: `layer.add_variable` is deprecated and will be removed in a future version. Please use `layer.add_weight` method instead.\n",
            "  initializer=tf.compat.v1.zeros_initializer(dtype=self.dtype))\n",
            "/usr/local/lib/python3.7/dist-packages/ipykernel_launcher.py:46: UserWarning: `tf.layers.dense` is deprecated and will be removed in a future version. Please use `tf.keras.layers.Dense` instead.\n",
            "/usr/local/lib/python3.7/dist-packages/keras/legacy_tf_layers/core.py:261: UserWarning: `layer.apply` is deprecated and will be removed in a future version. Please use `layer.__call__` method instead.\n",
            "  return layer.apply(inputs)\n"
          ]
        },
        {
          "output_type": "stream",
          "name": "stdout",
          "text": [
            " << initial state >>  (LSTMStateTuple(c=<tf.Tensor 'MultiRNNCellZeroState/DropoutWrapperZeroState/BasicLSTMCellZeroState/zeros:0' shape=(100, 128) dtype=float32>, h=<tf.Tensor 'MultiRNNCellZeroState/DropoutWrapperZeroState/BasicLSTMCellZeroState/zeros_1:0' shape=(100, 128) dtype=float32>),)\n",
            "\n",
            " << lstm_output >>  Tensor(\"rnn/transpose_1:0\", shape=(100, 200, 128), dtype=float32)\n",
            "\n",
            " << final state >>  (LSTMStateTuple(c=<tf.Tensor 'rnn/while/Identity_4:0' shape=(100, 128) dtype=float32>, h=<tf.Tensor 'rnn/while/Identity_5:0' shape=(100, 128) dtype=float32>),)\n",
            "\n",
            " << logits >>  Tensor(\"logits_squeezed:0\", shape=(100,), dtype=float32)\n",
            "\n",
            " << predictions >>  {'probabilities': <tf.Tensor 'probabilities:0' shape=(100,) dtype=float32>, 'labels': <tf.Tensor 'labels:0' shape=(100,) dtype=int32>}\n"
          ]
        }
      ]
    },
    {
      "cell_type": "code",
      "source": [
        "y_train"
      ],
      "metadata": {
        "colab": {
          "base_uri": "https://localhost:8080/"
        },
        "id": "wy3tHRKLgbBG",
        "outputId": "3b969ea9-44ea-4225-85a1-727ad6fbe852"
      },
      "execution_count": 53,
      "outputs": [
        {
          "output_type": "execute_result",
          "data": {
            "text/plain": [
              "array([1, 0, 0, ..., 1, 1, 0])"
            ]
          },
          "metadata": {},
          "execution_count": 53
        }
      ]
    },
    {
      "cell_type": "code",
      "source": [
        "rnn.train(X_train, y_train, num_epochs=40)"
      ],
      "metadata": {
        "colab": {
          "base_uri": "https://localhost:8080/"
        },
        "id": "bmJvBxfMgXKW",
        "outputId": "12357e1e-f104-444f-ee39-406b4d0908a1"
      },
      "execution_count": 54,
      "outputs": [
        {
          "output_type": "stream",
          "name": "stdout",
          "text": [
            "Epoch: 1/40 Iteration: 20 | Train loss: 0.69310\n",
            "Epoch: 1/40 Iteration: 40 | Train loss: 0.63718\n",
            "Epoch: 1/40 Iteration: 60 | Train loss: 0.65936\n",
            "Epoch: 1/40 Iteration: 80 | Train loss: 0.56854\n",
            "Epoch: 1/40 Iteration: 100 | Train loss: 0.51929\n",
            "Epoch: 1/40 Iteration: 120 | Train loss: 0.54169\n",
            "Epoch: 1/40 Iteration: 140 | Train loss: 0.58231\n",
            "Epoch: 1/40 Iteration: 160 | Train loss: 0.54350\n",
            "Epoch: 1/40 Iteration: 180 | Train loss: 0.62344\n",
            "Epoch: 1/40 Iteration: 200 | Train loss: 0.52899\n",
            "Epoch: 1/40 Iteration: 220 | Train loss: 0.42484\n",
            "Epoch: 1/40 Iteration: 240 | Train loss: 0.44939\n",
            "Epoch: 2/40 Iteration: 260 | Train loss: 0.46309\n",
            "Epoch: 2/40 Iteration: 280 | Train loss: 0.35847\n",
            "Epoch: 2/40 Iteration: 300 | Train loss: 0.35217\n",
            "Epoch: 2/40 Iteration: 320 | Train loss: 0.39671\n",
            "Epoch: 2/40 Iteration: 340 | Train loss: 0.31790\n",
            "Epoch: 2/40 Iteration: 360 | Train loss: 0.28340\n",
            "Epoch: 2/40 Iteration: 380 | Train loss: 0.26748\n",
            "Epoch: 2/40 Iteration: 400 | Train loss: 0.37216\n",
            "Epoch: 2/40 Iteration: 420 | Train loss: 0.40802\n",
            "Epoch: 2/40 Iteration: 440 | Train loss: 0.37271\n",
            "Epoch: 2/40 Iteration: 460 | Train loss: 0.37257\n",
            "Epoch: 2/40 Iteration: 480 | Train loss: 0.27864\n",
            "Epoch: 2/40 Iteration: 500 | Train loss: 0.19360\n",
            "Epoch: 3/40 Iteration: 520 | Train loss: 0.34098\n",
            "Epoch: 3/40 Iteration: 540 | Train loss: 0.24016\n",
            "Epoch: 3/40 Iteration: 560 | Train loss: 0.39472\n",
            "Epoch: 3/40 Iteration: 580 | Train loss: 0.26547\n",
            "Epoch: 3/40 Iteration: 600 | Train loss: 0.29174\n",
            "Epoch: 3/40 Iteration: 620 | Train loss: 0.32444\n",
            "Epoch: 3/40 Iteration: 640 | Train loss: 0.39469\n",
            "Epoch: 3/40 Iteration: 660 | Train loss: 0.17736\n",
            "Epoch: 3/40 Iteration: 680 | Train loss: 0.29486\n",
            "Epoch: 3/40 Iteration: 700 | Train loss: 0.18239\n",
            "Epoch: 3/40 Iteration: 720 | Train loss: 0.20581\n",
            "Epoch: 3/40 Iteration: 740 | Train loss: 0.26709\n",
            "Epoch: 4/40 Iteration: 760 | Train loss: 0.23306\n",
            "Epoch: 4/40 Iteration: 780 | Train loss: 0.13560\n",
            "Epoch: 4/40 Iteration: 800 | Train loss: 0.21697\n",
            "Epoch: 4/40 Iteration: 820 | Train loss: 0.25521\n",
            "Epoch: 4/40 Iteration: 840 | Train loss: 0.16101\n",
            "Epoch: 4/40 Iteration: 860 | Train loss: 0.10466\n",
            "Epoch: 4/40 Iteration: 880 | Train loss: 0.21287\n",
            "Epoch: 4/40 Iteration: 900 | Train loss: 0.21693\n",
            "Epoch: 4/40 Iteration: 920 | Train loss: 0.22718\n",
            "Epoch: 4/40 Iteration: 940 | Train loss: 0.25692\n",
            "Epoch: 4/40 Iteration: 960 | Train loss: 0.27130\n",
            "Epoch: 4/40 Iteration: 980 | Train loss: 0.17423\n",
            "Epoch: 4/40 Iteration: 1000 | Train loss: 0.14009\n",
            "Epoch: 5/40 Iteration: 1020 | Train loss: 0.17960\n",
            "Epoch: 5/40 Iteration: 1040 | Train loss: 0.08874\n",
            "Epoch: 5/40 Iteration: 1060 | Train loss: 0.19564\n",
            "Epoch: 5/40 Iteration: 1080 | Train loss: 0.13156\n",
            "Epoch: 5/40 Iteration: 1100 | Train loss: 0.14976\n",
            "Epoch: 5/40 Iteration: 1120 | Train loss: 0.13977\n",
            "Epoch: 5/40 Iteration: 1140 | Train loss: 0.14709\n",
            "Epoch: 5/40 Iteration: 1160 | Train loss: 0.07534\n",
            "Epoch: 5/40 Iteration: 1180 | Train loss: 0.16137\n",
            "Epoch: 5/40 Iteration: 1200 | Train loss: 0.11100\n",
            "Epoch: 5/40 Iteration: 1220 | Train loss: 0.17002\n",
            "Epoch: 5/40 Iteration: 1240 | Train loss: 0.08444\n",
            "Epoch: 6/40 Iteration: 1260 | Train loss: 0.07385\n",
            "Epoch: 6/40 Iteration: 1280 | Train loss: 0.10166\n",
            "Epoch: 6/40 Iteration: 1300 | Train loss: 0.11300\n",
            "Epoch: 6/40 Iteration: 1320 | Train loss: 0.13643\n",
            "Epoch: 6/40 Iteration: 1340 | Train loss: 0.07269\n",
            "Epoch: 6/40 Iteration: 1360 | Train loss: 0.27259\n",
            "Epoch: 6/40 Iteration: 1380 | Train loss: 0.21087\n",
            "Epoch: 6/40 Iteration: 1400 | Train loss: 0.16201\n",
            "Epoch: 6/40 Iteration: 1420 | Train loss: 0.11724\n",
            "Epoch: 6/40 Iteration: 1440 | Train loss: 0.15370\n",
            "Epoch: 6/40 Iteration: 1460 | Train loss: 0.32324\n",
            "Epoch: 6/40 Iteration: 1480 | Train loss: 0.18280\n",
            "Epoch: 6/40 Iteration: 1500 | Train loss: 0.10414\n",
            "Epoch: 7/40 Iteration: 1520 | Train loss: 0.13194\n",
            "Epoch: 7/40 Iteration: 1540 | Train loss: 0.04394\n",
            "Epoch: 7/40 Iteration: 1560 | Train loss: 0.17742\n",
            "Epoch: 7/40 Iteration: 1580 | Train loss: 0.11829\n",
            "Epoch: 7/40 Iteration: 1600 | Train loss: 0.05184\n",
            "Epoch: 7/40 Iteration: 1620 | Train loss: 0.16244\n",
            "Epoch: 7/40 Iteration: 1640 | Train loss: 0.07573\n",
            "Epoch: 7/40 Iteration: 1660 | Train loss: 0.02206\n",
            "Epoch: 7/40 Iteration: 1680 | Train loss: 0.10384\n",
            "Epoch: 7/40 Iteration: 1700 | Train loss: 0.02815\n",
            "Epoch: 7/40 Iteration: 1720 | Train loss: 0.14451\n",
            "Epoch: 7/40 Iteration: 1740 | Train loss: 0.11363\n",
            "Epoch: 8/40 Iteration: 1760 | Train loss: 0.06984\n",
            "Epoch: 8/40 Iteration: 1780 | Train loss: 0.07285\n",
            "Epoch: 8/40 Iteration: 1800 | Train loss: 0.06349\n",
            "Epoch: 8/40 Iteration: 1820 | Train loss: 0.08384\n",
            "Epoch: 8/40 Iteration: 1840 | Train loss: 0.02519\n",
            "Epoch: 8/40 Iteration: 1860 | Train loss: 0.03465\n",
            "Epoch: 8/40 Iteration: 1880 | Train loss: 0.09692\n",
            "Epoch: 8/40 Iteration: 1900 | Train loss: 0.14812\n",
            "Epoch: 8/40 Iteration: 1920 | Train loss: 0.08172\n",
            "Epoch: 8/40 Iteration: 1940 | Train loss: 0.09480\n",
            "Epoch: 8/40 Iteration: 1960 | Train loss: 0.08174\n",
            "Epoch: 8/40 Iteration: 1980 | Train loss: 0.09103\n",
            "Epoch: 8/40 Iteration: 2000 | Train loss: 0.11966\n",
            "Epoch: 9/40 Iteration: 2020 | Train loss: 0.10207\n",
            "Epoch: 9/40 Iteration: 2040 | Train loss: 0.04018\n",
            "Epoch: 9/40 Iteration: 2060 | Train loss: 0.01054\n",
            "Epoch: 9/40 Iteration: 2080 | Train loss: 0.03629\n",
            "Epoch: 9/40 Iteration: 2100 | Train loss: 0.02426\n",
            "Epoch: 9/40 Iteration: 2120 | Train loss: 0.07323\n",
            "Epoch: 9/40 Iteration: 2140 | Train loss: 0.00463\n",
            "Epoch: 9/40 Iteration: 2160 | Train loss: 0.01699\n",
            "Epoch: 9/40 Iteration: 2180 | Train loss: 0.01525\n",
            "Epoch: 9/40 Iteration: 2200 | Train loss: 0.05577\n",
            "Epoch: 9/40 Iteration: 2220 | Train loss: 0.04852\n",
            "Epoch: 9/40 Iteration: 2240 | Train loss: 0.04119\n",
            "Epoch: 10/40 Iteration: 2260 | Train loss: 0.01064\n",
            "Epoch: 10/40 Iteration: 2280 | Train loss: 0.05981\n",
            "Epoch: 10/40 Iteration: 2300 | Train loss: 0.05446\n",
            "Epoch: 10/40 Iteration: 2320 | Train loss: 0.18134\n",
            "Epoch: 10/40 Iteration: 2340 | Train loss: 0.04833\n",
            "Epoch: 10/40 Iteration: 2360 | Train loss: 0.03877\n",
            "Epoch: 10/40 Iteration: 2380 | Train loss: 0.04274\n",
            "Epoch: 10/40 Iteration: 2400 | Train loss: 0.05759\n",
            "Epoch: 10/40 Iteration: 2420 | Train loss: 0.07168\n",
            "Epoch: 10/40 Iteration: 2440 | Train loss: 0.01367\n",
            "Epoch: 10/40 Iteration: 2460 | Train loss: 0.01824\n",
            "Epoch: 10/40 Iteration: 2480 | Train loss: 0.01676\n",
            "Epoch: 10/40 Iteration: 2500 | Train loss: 0.02874\n",
            "Epoch: 11/40 Iteration: 2520 | Train loss: 0.03340\n",
            "Epoch: 11/40 Iteration: 2540 | Train loss: 0.00458\n",
            "Epoch: 11/40 Iteration: 2560 | Train loss: 0.00671\n",
            "Epoch: 11/40 Iteration: 2580 | Train loss: 0.03114\n",
            "Epoch: 11/40 Iteration: 2600 | Train loss: 0.01236\n",
            "Epoch: 11/40 Iteration: 2620 | Train loss: 0.06431\n",
            "Epoch: 11/40 Iteration: 2640 | Train loss: 0.01300\n",
            "Epoch: 11/40 Iteration: 2660 | Train loss: 0.00779\n",
            "Epoch: 11/40 Iteration: 2680 | Train loss: 0.01176\n",
            "Epoch: 11/40 Iteration: 2700 | Train loss: 0.04359\n",
            "Epoch: 11/40 Iteration: 2720 | Train loss: 0.07553\n",
            "Epoch: 11/40 Iteration: 2740 | Train loss: 0.04840\n",
            "Epoch: 12/40 Iteration: 2760 | Train loss: 0.01038\n",
            "Epoch: 12/40 Iteration: 2780 | Train loss: 0.01641\n",
            "Epoch: 12/40 Iteration: 2800 | Train loss: 0.01915\n",
            "Epoch: 12/40 Iteration: 2820 | Train loss: 0.00448\n",
            "Epoch: 12/40 Iteration: 2840 | Train loss: 0.00567\n",
            "Epoch: 12/40 Iteration: 2860 | Train loss: 0.00586\n",
            "Epoch: 12/40 Iteration: 2880 | Train loss: 0.03416\n",
            "Epoch: 12/40 Iteration: 2900 | Train loss: 0.00532\n",
            "Epoch: 12/40 Iteration: 2920 | Train loss: 0.09501\n",
            "Epoch: 12/40 Iteration: 2940 | Train loss: 0.10743\n",
            "Epoch: 12/40 Iteration: 2960 | Train loss: 0.07290\n",
            "Epoch: 12/40 Iteration: 2980 | Train loss: 0.01021\n",
            "Epoch: 12/40 Iteration: 3000 | Train loss: 0.04707\n",
            "Epoch: 13/40 Iteration: 3020 | Train loss: 0.02281\n",
            "Epoch: 13/40 Iteration: 3040 | Train loss: 0.00932\n",
            "Epoch: 13/40 Iteration: 3060 | Train loss: 0.00205\n",
            "Epoch: 13/40 Iteration: 3080 | Train loss: 0.00828\n",
            "Epoch: 13/40 Iteration: 3100 | Train loss: 0.00996\n",
            "Epoch: 13/40 Iteration: 3120 | Train loss: 0.10587\n",
            "Epoch: 13/40 Iteration: 3140 | Train loss: 0.04648\n",
            "Epoch: 13/40 Iteration: 3160 | Train loss: 0.01259\n",
            "Epoch: 13/40 Iteration: 3180 | Train loss: 0.01581\n",
            "Epoch: 13/40 Iteration: 3200 | Train loss: 0.00913\n",
            "Epoch: 13/40 Iteration: 3220 | Train loss: 0.08228\n",
            "Epoch: 13/40 Iteration: 3240 | Train loss: 0.00478\n",
            "Epoch: 14/40 Iteration: 3260 | Train loss: 0.00352\n",
            "Epoch: 14/40 Iteration: 3280 | Train loss: 0.00290\n",
            "Epoch: 14/40 Iteration: 3300 | Train loss: 0.00276\n",
            "Epoch: 14/40 Iteration: 3320 | Train loss: 0.01568\n",
            "Epoch: 14/40 Iteration: 3340 | Train loss: 0.06017\n",
            "Epoch: 14/40 Iteration: 3360 | Train loss: 0.02795\n",
            "Epoch: 14/40 Iteration: 3380 | Train loss: 0.03040\n",
            "Epoch: 14/40 Iteration: 3400 | Train loss: 0.00680\n",
            "Epoch: 14/40 Iteration: 3420 | Train loss: 0.06338\n",
            "Epoch: 14/40 Iteration: 3440 | Train loss: 0.00751\n",
            "Epoch: 14/40 Iteration: 3460 | Train loss: 0.01443\n",
            "Epoch: 14/40 Iteration: 3480 | Train loss: 0.04362\n",
            "Epoch: 14/40 Iteration: 3500 | Train loss: 0.03784\n",
            "Epoch: 15/40 Iteration: 3520 | Train loss: 0.00473\n",
            "Epoch: 15/40 Iteration: 3540 | Train loss: 0.00128\n",
            "Epoch: 15/40 Iteration: 3560 | Train loss: 0.00703\n",
            "Epoch: 15/40 Iteration: 3580 | Train loss: 0.02397\n",
            "Epoch: 15/40 Iteration: 3600 | Train loss: 0.01693\n",
            "Epoch: 15/40 Iteration: 3620 | Train loss: 0.01757\n",
            "Epoch: 15/40 Iteration: 3640 | Train loss: 0.00523\n",
            "Epoch: 15/40 Iteration: 3660 | Train loss: 0.00235\n",
            "Epoch: 15/40 Iteration: 3680 | Train loss: 0.00854\n",
            "Epoch: 15/40 Iteration: 3700 | Train loss: 0.01484\n",
            "Epoch: 15/40 Iteration: 3720 | Train loss: 0.04456\n",
            "Epoch: 15/40 Iteration: 3740 | Train loss: 0.00227\n",
            "Epoch: 16/40 Iteration: 3760 | Train loss: 0.01972\n",
            "Epoch: 16/40 Iteration: 3780 | Train loss: 0.00149\n",
            "Epoch: 16/40 Iteration: 3800 | Train loss: 0.02648\n",
            "Epoch: 16/40 Iteration: 3820 | Train loss: 0.00274\n",
            "Epoch: 16/40 Iteration: 3840 | Train loss: 0.00539\n",
            "Epoch: 16/40 Iteration: 3860 | Train loss: 0.00179\n",
            "Epoch: 16/40 Iteration: 3880 | Train loss: 0.01390\n",
            "Epoch: 16/40 Iteration: 3900 | Train loss: 0.01036\n",
            "Epoch: 16/40 Iteration: 3920 | Train loss: 0.06305\n",
            "Epoch: 16/40 Iteration: 3940 | Train loss: 0.06875\n",
            "Epoch: 16/40 Iteration: 3960 | Train loss: 0.00073\n",
            "Epoch: 16/40 Iteration: 3980 | Train loss: 0.00307\n",
            "Epoch: 16/40 Iteration: 4000 | Train loss: 0.00575\n",
            "Epoch: 17/40 Iteration: 4020 | Train loss: 0.00596\n",
            "Epoch: 17/40 Iteration: 4040 | Train loss: 0.01650\n",
            "Epoch: 17/40 Iteration: 4060 | Train loss: 0.01079\n",
            "Epoch: 17/40 Iteration: 4080 | Train loss: 0.00056\n",
            "Epoch: 17/40 Iteration: 4100 | Train loss: 0.00167\n",
            "Epoch: 17/40 Iteration: 4120 | Train loss: 0.02855\n",
            "Epoch: 17/40 Iteration: 4140 | Train loss: 0.01053\n",
            "Epoch: 17/40 Iteration: 4160 | Train loss: 0.00441\n",
            "Epoch: 17/40 Iteration: 4180 | Train loss: 0.00102\n",
            "Epoch: 17/40 Iteration: 4200 | Train loss: 0.00043\n",
            "Epoch: 17/40 Iteration: 4220 | Train loss: 0.00111\n",
            "Epoch: 17/40 Iteration: 4240 | Train loss: 0.00652\n",
            "Epoch: 18/40 Iteration: 4260 | Train loss: 0.00094\n",
            "Epoch: 18/40 Iteration: 4280 | Train loss: 0.00150\n",
            "Epoch: 18/40 Iteration: 4300 | Train loss: 0.00034\n",
            "Epoch: 18/40 Iteration: 4320 | Train loss: 0.00514\n",
            "Epoch: 18/40 Iteration: 4340 | Train loss: 0.03713\n",
            "Epoch: 18/40 Iteration: 4360 | Train loss: 0.00153\n",
            "Epoch: 18/40 Iteration: 4380 | Train loss: 0.24848\n",
            "Epoch: 18/40 Iteration: 4400 | Train loss: 0.01385\n",
            "Epoch: 18/40 Iteration: 4420 | Train loss: 0.04394\n",
            "Epoch: 18/40 Iteration: 4440 | Train loss: 0.00653\n",
            "Epoch: 18/40 Iteration: 4460 | Train loss: 0.01093\n",
            "Epoch: 18/40 Iteration: 4480 | Train loss: 0.00492\n",
            "Epoch: 18/40 Iteration: 4500 | Train loss: 0.06528\n",
            "Epoch: 19/40 Iteration: 4520 | Train loss: 0.03376\n",
            "Epoch: 19/40 Iteration: 4540 | Train loss: 0.00185\n",
            "Epoch: 19/40 Iteration: 4560 | Train loss: 0.11241\n",
            "Epoch: 19/40 Iteration: 4580 | Train loss: 0.11838\n",
            "Epoch: 19/40 Iteration: 4600 | Train loss: 0.10164\n",
            "Epoch: 19/40 Iteration: 4620 | Train loss: 0.03248\n",
            "Epoch: 19/40 Iteration: 4640 | Train loss: 0.00722\n",
            "Epoch: 19/40 Iteration: 4660 | Train loss: 0.00297\n",
            "Epoch: 19/40 Iteration: 4680 | Train loss: 0.00784\n",
            "Epoch: 19/40 Iteration: 4700 | Train loss: 0.01529\n",
            "Epoch: 19/40 Iteration: 4720 | Train loss: 0.01875\n",
            "Epoch: 19/40 Iteration: 4740 | Train loss: 0.00644\n",
            "Epoch: 20/40 Iteration: 4760 | Train loss: 0.00215\n",
            "Epoch: 20/40 Iteration: 4780 | Train loss: 0.00251\n",
            "Epoch: 20/40 Iteration: 4800 | Train loss: 0.00225\n",
            "Epoch: 20/40 Iteration: 4820 | Train loss: 0.10248\n",
            "Epoch: 20/40 Iteration: 4840 | Train loss: 0.00635\n",
            "Epoch: 20/40 Iteration: 4860 | Train loss: 0.00195\n",
            "Epoch: 20/40 Iteration: 4880 | Train loss: 0.04621\n",
            "Epoch: 20/40 Iteration: 4900 | Train loss: 0.03192\n",
            "Epoch: 20/40 Iteration: 4920 | Train loss: 0.02564\n",
            "Epoch: 20/40 Iteration: 4940 | Train loss: 0.01915\n",
            "Epoch: 20/40 Iteration: 4960 | Train loss: 0.03001\n",
            "Epoch: 20/40 Iteration: 4980 | Train loss: 0.00726\n",
            "Epoch: 20/40 Iteration: 5000 | Train loss: 0.13660\n",
            "Epoch: 21/40 Iteration: 5020 | Train loss: 0.00797\n",
            "Epoch: 21/40 Iteration: 5040 | Train loss: 0.00285\n",
            "Epoch: 21/40 Iteration: 5060 | Train loss: 0.00623\n",
            "Epoch: 21/40 Iteration: 5080 | Train loss: 0.07423\n",
            "Epoch: 21/40 Iteration: 5100 | Train loss: 0.01210\n",
            "Epoch: 21/40 Iteration: 5120 | Train loss: 0.00388\n",
            "Epoch: 21/40 Iteration: 5140 | Train loss: 0.00064\n",
            "Epoch: 21/40 Iteration: 5160 | Train loss: 0.00142\n",
            "Epoch: 21/40 Iteration: 5180 | Train loss: 0.00227\n",
            "Epoch: 21/40 Iteration: 5200 | Train loss: 0.00155\n",
            "Epoch: 21/40 Iteration: 5220 | Train loss: 0.00706\n",
            "Epoch: 21/40 Iteration: 5240 | Train loss: 0.00228\n",
            "Epoch: 22/40 Iteration: 5260 | Train loss: 0.01068\n",
            "Epoch: 22/40 Iteration: 5280 | Train loss: 0.00033\n",
            "Epoch: 22/40 Iteration: 5300 | Train loss: 0.00143\n",
            "Epoch: 22/40 Iteration: 5320 | Train loss: 0.00233\n",
            "Epoch: 22/40 Iteration: 5340 | Train loss: 0.00081\n",
            "Epoch: 22/40 Iteration: 5360 | Train loss: 0.00064\n",
            "Epoch: 22/40 Iteration: 5380 | Train loss: 0.00183\n",
            "Epoch: 22/40 Iteration: 5400 | Train loss: 0.00148\n",
            "Epoch: 22/40 Iteration: 5420 | Train loss: 0.02557\n",
            "Epoch: 22/40 Iteration: 5440 | Train loss: 0.00099\n",
            "Epoch: 22/40 Iteration: 5460 | Train loss: 0.00046\n",
            "Epoch: 22/40 Iteration: 5480 | Train loss: 0.00230\n",
            "Epoch: 22/40 Iteration: 5500 | Train loss: 0.00068\n",
            "Epoch: 23/40 Iteration: 5520 | Train loss: 0.00261\n",
            "Epoch: 23/40 Iteration: 5540 | Train loss: 0.00036\n",
            "Epoch: 23/40 Iteration: 5560 | Train loss: 0.00087\n",
            "Epoch: 23/40 Iteration: 5580 | Train loss: 0.01081\n",
            "Epoch: 23/40 Iteration: 5600 | Train loss: 0.00029\n",
            "Epoch: 23/40 Iteration: 5620 | Train loss: 0.00032\n",
            "Epoch: 23/40 Iteration: 5640 | Train loss: 0.00021\n",
            "Epoch: 23/40 Iteration: 5660 | Train loss: 0.00031\n",
            "Epoch: 23/40 Iteration: 5680 | Train loss: 0.00034\n",
            "Epoch: 23/40 Iteration: 5700 | Train loss: 0.00032\n",
            "Epoch: 23/40 Iteration: 5720 | Train loss: 0.00018\n",
            "Epoch: 23/40 Iteration: 5740 | Train loss: 0.00049\n",
            "Epoch: 24/40 Iteration: 5760 | Train loss: 0.00042\n",
            "Epoch: 24/40 Iteration: 5780 | Train loss: 0.00035\n",
            "Epoch: 24/40 Iteration: 5800 | Train loss: 0.00022\n",
            "Epoch: 24/40 Iteration: 5820 | Train loss: 0.00027\n",
            "Epoch: 24/40 Iteration: 5840 | Train loss: 0.00206\n",
            "Epoch: 24/40 Iteration: 5860 | Train loss: 0.00020\n",
            "Epoch: 24/40 Iteration: 5880 | Train loss: 0.00029\n",
            "Epoch: 24/40 Iteration: 5900 | Train loss: 0.00188\n",
            "Epoch: 24/40 Iteration: 5920 | Train loss: 0.03017\n",
            "Epoch: 24/40 Iteration: 5940 | Train loss: 0.00020\n",
            "Epoch: 24/40 Iteration: 5960 | Train loss: 0.00010\n",
            "Epoch: 24/40 Iteration: 5980 | Train loss: 0.00012\n",
            "Epoch: 24/40 Iteration: 6000 | Train loss: 0.00020\n",
            "Epoch: 25/40 Iteration: 6020 | Train loss: 0.00276\n",
            "Epoch: 25/40 Iteration: 6040 | Train loss: 0.00029\n",
            "Epoch: 25/40 Iteration: 6060 | Train loss: 0.00040\n",
            "Epoch: 25/40 Iteration: 6080 | Train loss: 0.00027\n",
            "Epoch: 25/40 Iteration: 6100 | Train loss: 0.00040\n",
            "Epoch: 25/40 Iteration: 6120 | Train loss: 0.00008\n",
            "Epoch: 25/40 Iteration: 6140 | Train loss: 0.00005\n",
            "Epoch: 25/40 Iteration: 6160 | Train loss: 0.00020\n",
            "Epoch: 25/40 Iteration: 6180 | Train loss: 0.00009\n",
            "Epoch: 25/40 Iteration: 6200 | Train loss: 0.00011\n",
            "Epoch: 25/40 Iteration: 6220 | Train loss: 0.00014\n",
            "Epoch: 25/40 Iteration: 6240 | Train loss: 0.00015\n",
            "Epoch: 26/40 Iteration: 6260 | Train loss: 0.00019\n",
            "Epoch: 26/40 Iteration: 6280 | Train loss: 0.00007\n",
            "Epoch: 26/40 Iteration: 6300 | Train loss: 0.00004\n",
            "Epoch: 26/40 Iteration: 6320 | Train loss: 0.00011\n",
            "Epoch: 26/40 Iteration: 6340 | Train loss: 0.00046\n",
            "Epoch: 26/40 Iteration: 6360 | Train loss: 0.00007\n",
            "Epoch: 26/40 Iteration: 6380 | Train loss: 0.00055\n",
            "Epoch: 26/40 Iteration: 6400 | Train loss: 0.00043\n",
            "Epoch: 26/40 Iteration: 6420 | Train loss: 0.00045\n",
            "Epoch: 26/40 Iteration: 6440 | Train loss: 0.00353\n",
            "Epoch: 26/40 Iteration: 6460 | Train loss: 0.00004\n",
            "Epoch: 26/40 Iteration: 6480 | Train loss: 0.00010\n",
            "Epoch: 26/40 Iteration: 6500 | Train loss: 0.00014\n",
            "Epoch: 27/40 Iteration: 6520 | Train loss: 0.00009\n",
            "Epoch: 27/40 Iteration: 6540 | Train loss: 0.00011\n",
            "Epoch: 27/40 Iteration: 6560 | Train loss: 0.00087\n",
            "Epoch: 27/40 Iteration: 6580 | Train loss: 0.00006\n",
            "Epoch: 27/40 Iteration: 6600 | Train loss: 0.00006\n",
            "Epoch: 27/40 Iteration: 6620 | Train loss: 0.00013\n",
            "Epoch: 27/40 Iteration: 6640 | Train loss: 0.00003\n",
            "Epoch: 27/40 Iteration: 6660 | Train loss: 0.00018\n",
            "Epoch: 27/40 Iteration: 6680 | Train loss: 0.00005\n",
            "Epoch: 27/40 Iteration: 6700 | Train loss: 0.00012\n",
            "Epoch: 27/40 Iteration: 6720 | Train loss: 0.00005\n",
            "Epoch: 27/40 Iteration: 6740 | Train loss: 0.00013\n",
            "Epoch: 28/40 Iteration: 6760 | Train loss: 0.00017\n",
            "Epoch: 28/40 Iteration: 6780 | Train loss: 0.00009\n",
            "Epoch: 28/40 Iteration: 6800 | Train loss: 0.00005\n",
            "Epoch: 28/40 Iteration: 6820 | Train loss: 0.00010\n",
            "Epoch: 28/40 Iteration: 6840 | Train loss: 0.00013\n",
            "Epoch: 28/40 Iteration: 6860 | Train loss: 0.00004\n",
            "Epoch: 28/40 Iteration: 6880 | Train loss: 0.00021\n",
            "Epoch: 28/40 Iteration: 6900 | Train loss: 0.00006\n",
            "Epoch: 28/40 Iteration: 6920 | Train loss: 0.00087\n",
            "Epoch: 28/40 Iteration: 6940 | Train loss: 0.00015\n",
            "Epoch: 28/40 Iteration: 6960 | Train loss: 0.00003\n",
            "Epoch: 28/40 Iteration: 6980 | Train loss: 0.00003\n",
            "Epoch: 28/40 Iteration: 7000 | Train loss: 0.00006\n",
            "Epoch: 29/40 Iteration: 7020 | Train loss: 0.00006\n",
            "Epoch: 29/40 Iteration: 7040 | Train loss: 0.00005\n",
            "Epoch: 29/40 Iteration: 7060 | Train loss: 0.00004\n",
            "Epoch: 29/40 Iteration: 7080 | Train loss: 0.00023\n",
            "Epoch: 29/40 Iteration: 7100 | Train loss: 0.00012\n",
            "Epoch: 29/40 Iteration: 7120 | Train loss: 0.00006\n",
            "Epoch: 29/40 Iteration: 7140 | Train loss: 0.00001\n",
            "Epoch: 29/40 Iteration: 7160 | Train loss: 0.00006\n",
            "Epoch: 29/40 Iteration: 7180 | Train loss: 0.00002\n",
            "Epoch: 29/40 Iteration: 7200 | Train loss: 0.00009\n",
            "Epoch: 29/40 Iteration: 7220 | Train loss: 0.00006\n",
            "Epoch: 29/40 Iteration: 7240 | Train loss: 0.00004\n",
            "Epoch: 30/40 Iteration: 7260 | Train loss: 0.00004\n",
            "Epoch: 30/40 Iteration: 7280 | Train loss: 0.00002\n",
            "Epoch: 30/40 Iteration: 7300 | Train loss: 0.00002\n",
            "Epoch: 30/40 Iteration: 7320 | Train loss: 0.00007\n",
            "Epoch: 30/40 Iteration: 7340 | Train loss: 0.00009\n",
            "Epoch: 30/40 Iteration: 7360 | Train loss: 0.00003\n",
            "Epoch: 30/40 Iteration: 7380 | Train loss: 0.00010\n",
            "Epoch: 30/40 Iteration: 7400 | Train loss: 0.00004\n",
            "Epoch: 30/40 Iteration: 7420 | Train loss: 0.00013\n",
            "Epoch: 30/40 Iteration: 7440 | Train loss: 0.00004\n",
            "Epoch: 30/40 Iteration: 7460 | Train loss: 0.00001\n",
            "Epoch: 30/40 Iteration: 7480 | Train loss: 0.00002\n",
            "Epoch: 30/40 Iteration: 7500 | Train loss: 0.00004\n",
            "Epoch: 31/40 Iteration: 7520 | Train loss: 0.00024\n",
            "Epoch: 31/40 Iteration: 7540 | Train loss: 0.00002\n",
            "Epoch: 31/40 Iteration: 7560 | Train loss: 0.00021\n",
            "Epoch: 31/40 Iteration: 7580 | Train loss: 0.00002\n",
            "Epoch: 31/40 Iteration: 7600 | Train loss: 0.00008\n",
            "Epoch: 31/40 Iteration: 7620 | Train loss: 0.00012\n",
            "Epoch: 31/40 Iteration: 7640 | Train loss: 0.00000\n",
            "Epoch: 31/40 Iteration: 7660 | Train loss: 0.00006\n",
            "Epoch: 31/40 Iteration: 7680 | Train loss: 0.00001\n",
            "Epoch: 31/40 Iteration: 7700 | Train loss: 0.00002\n",
            "Epoch: 31/40 Iteration: 7720 | Train loss: 0.00004\n",
            "Epoch: 31/40 Iteration: 7740 | Train loss: 0.00003\n",
            "Epoch: 32/40 Iteration: 7760 | Train loss: 0.00003\n",
            "Epoch: 32/40 Iteration: 7780 | Train loss: 0.00002\n",
            "Epoch: 32/40 Iteration: 7800 | Train loss: 0.00001\n",
            "Epoch: 32/40 Iteration: 7820 | Train loss: 0.00063\n",
            "Epoch: 32/40 Iteration: 7840 | Train loss: 0.00018\n",
            "Epoch: 32/40 Iteration: 7860 | Train loss: 0.00002\n",
            "Epoch: 32/40 Iteration: 7880 | Train loss: 0.00020\n",
            "Epoch: 32/40 Iteration: 7900 | Train loss: 0.00005\n",
            "Epoch: 32/40 Iteration: 7920 | Train loss: 0.00007\n",
            "Epoch: 32/40 Iteration: 7940 | Train loss: 0.00002\n",
            "Epoch: 32/40 Iteration: 7960 | Train loss: 0.00001\n",
            "Epoch: 32/40 Iteration: 7980 | Train loss: 0.00001\n",
            "Epoch: 32/40 Iteration: 8000 | Train loss: 0.00003\n",
            "Epoch: 33/40 Iteration: 8020 | Train loss: 0.00010\n",
            "Epoch: 33/40 Iteration: 8040 | Train loss: 0.00005\n",
            "Epoch: 33/40 Iteration: 8060 | Train loss: 0.00003\n",
            "Epoch: 33/40 Iteration: 8080 | Train loss: 0.00004\n",
            "Epoch: 33/40 Iteration: 8100 | Train loss: 0.00002\n",
            "Epoch: 33/40 Iteration: 8120 | Train loss: 0.00002\n",
            "Epoch: 33/40 Iteration: 8140 | Train loss: 0.00000\n",
            "Epoch: 33/40 Iteration: 8160 | Train loss: 0.00001\n",
            "Epoch: 33/40 Iteration: 8180 | Train loss: 0.00002\n",
            "Epoch: 33/40 Iteration: 8200 | Train loss: 0.00002\n",
            "Epoch: 33/40 Iteration: 8220 | Train loss: 0.00002\n",
            "Epoch: 33/40 Iteration: 8240 | Train loss: 0.00080\n",
            "Epoch: 34/40 Iteration: 8260 | Train loss: 0.00004\n",
            "Epoch: 34/40 Iteration: 8280 | Train loss: 0.00001\n",
            "Epoch: 34/40 Iteration: 8300 | Train loss: 0.00001\n",
            "Epoch: 34/40 Iteration: 8320 | Train loss: 0.00003\n",
            "Epoch: 34/40 Iteration: 8340 | Train loss: 0.00003\n",
            "Epoch: 34/40 Iteration: 8360 | Train loss: 0.00002\n",
            "Epoch: 34/40 Iteration: 8380 | Train loss: 0.00008\n",
            "Epoch: 34/40 Iteration: 8400 | Train loss: 0.00012\n",
            "Epoch: 34/40 Iteration: 8420 | Train loss: 0.00017\n",
            "Epoch: 34/40 Iteration: 8440 | Train loss: 0.00005\n",
            "Epoch: 34/40 Iteration: 8460 | Train loss: 0.00000\n",
            "Epoch: 34/40 Iteration: 8480 | Train loss: 0.00001\n",
            "Epoch: 34/40 Iteration: 8500 | Train loss: 0.00007\n",
            "Epoch: 35/40 Iteration: 8520 | Train loss: 0.00002\n",
            "Epoch: 35/40 Iteration: 8540 | Train loss: 0.00002\n",
            "Epoch: 35/40 Iteration: 8560 | Train loss: 0.00005\n",
            "Epoch: 35/40 Iteration: 8580 | Train loss: 0.00005\n",
            "Epoch: 35/40 Iteration: 8600 | Train loss: 0.00000\n",
            "Epoch: 35/40 Iteration: 8620 | Train loss: 0.00000\n",
            "Epoch: 35/40 Iteration: 8640 | Train loss: 0.00001\n",
            "Epoch: 35/40 Iteration: 8660 | Train loss: 0.00001\n",
            "Epoch: 35/40 Iteration: 8680 | Train loss: 0.00001\n",
            "Epoch: 35/40 Iteration: 8700 | Train loss: 0.00001\n",
            "Epoch: 35/40 Iteration: 8720 | Train loss: 0.00001\n",
            "Epoch: 35/40 Iteration: 8740 | Train loss: 0.00000\n",
            "Epoch: 36/40 Iteration: 8760 | Train loss: 0.00001\n",
            "Epoch: 36/40 Iteration: 8780 | Train loss: 0.00000\n",
            "Epoch: 36/40 Iteration: 8800 | Train loss: 0.00000\n",
            "Epoch: 36/40 Iteration: 8820 | Train loss: 0.00001\n",
            "Epoch: 36/40 Iteration: 8840 | Train loss: 0.00000\n",
            "Epoch: 36/40 Iteration: 8860 | Train loss: 0.00001\n",
            "Epoch: 36/40 Iteration: 8880 | Train loss: 0.00001\n",
            "Epoch: 36/40 Iteration: 8900 | Train loss: 0.00001\n",
            "Epoch: 36/40 Iteration: 8920 | Train loss: 0.00005\n",
            "Epoch: 36/40 Iteration: 8940 | Train loss: 0.00002\n",
            "Epoch: 36/40 Iteration: 8960 | Train loss: 0.00000\n",
            "Epoch: 36/40 Iteration: 8980 | Train loss: 0.00001\n",
            "Epoch: 36/40 Iteration: 9000 | Train loss: 0.00011\n",
            "Epoch: 37/40 Iteration: 9020 | Train loss: 0.00001\n",
            "Epoch: 37/40 Iteration: 9040 | Train loss: 0.00001\n",
            "Epoch: 37/40 Iteration: 9060 | Train loss: 0.00003\n",
            "Epoch: 37/40 Iteration: 9080 | Train loss: 0.00001\n",
            "Epoch: 37/40 Iteration: 9100 | Train loss: 0.00014\n",
            "Epoch: 37/40 Iteration: 9120 | Train loss: 0.00001\n",
            "Epoch: 37/40 Iteration: 9140 | Train loss: 0.00000\n",
            "Epoch: 37/40 Iteration: 9160 | Train loss: 0.00001\n",
            "Epoch: 37/40 Iteration: 9180 | Train loss: 0.00001\n",
            "Epoch: 37/40 Iteration: 9200 | Train loss: 0.00001\n",
            "Epoch: 37/40 Iteration: 9220 | Train loss: 0.00001\n",
            "Epoch: 37/40 Iteration: 9240 | Train loss: 0.00001\n",
            "Epoch: 38/40 Iteration: 9260 | Train loss: 0.00002\n",
            "Epoch: 38/40 Iteration: 9280 | Train loss: 0.00000\n",
            "Epoch: 38/40 Iteration: 9300 | Train loss: 0.00000\n",
            "Epoch: 38/40 Iteration: 9320 | Train loss: 0.00000\n",
            "Epoch: 38/40 Iteration: 9340 | Train loss: 0.00001\n",
            "Epoch: 38/40 Iteration: 9360 | Train loss: 0.00001\n",
            "Epoch: 38/40 Iteration: 9380 | Train loss: 0.00001\n",
            "Epoch: 38/40 Iteration: 9400 | Train loss: 0.00001\n",
            "Epoch: 38/40 Iteration: 9420 | Train loss: 0.00008\n",
            "Epoch: 38/40 Iteration: 9440 | Train loss: 0.00001\n",
            "Epoch: 38/40 Iteration: 9460 | Train loss: 0.00000\n",
            "Epoch: 38/40 Iteration: 9480 | Train loss: 0.00007\n",
            "Epoch: 38/40 Iteration: 9500 | Train loss: 0.00000\n",
            "Epoch: 39/40 Iteration: 9520 | Train loss: 0.00001\n",
            "Epoch: 39/40 Iteration: 9540 | Train loss: 0.00001\n",
            "Epoch: 39/40 Iteration: 9560 | Train loss: 0.00001\n",
            "Epoch: 39/40 Iteration: 9580 | Train loss: 0.00016\n",
            "Epoch: 39/40 Iteration: 9600 | Train loss: 0.00000\n",
            "Epoch: 39/40 Iteration: 9620 | Train loss: 0.00000\n",
            "Epoch: 39/40 Iteration: 9640 | Train loss: 0.00000\n",
            "Epoch: 39/40 Iteration: 9660 | Train loss: 0.00001\n",
            "Epoch: 39/40 Iteration: 9680 | Train loss: 0.00000\n",
            "Epoch: 39/40 Iteration: 9700 | Train loss: 0.00000\n",
            "Epoch: 39/40 Iteration: 9720 | Train loss: 0.00000\n",
            "Epoch: 39/40 Iteration: 9740 | Train loss: 0.00000\n",
            "Epoch: 40/40 Iteration: 9760 | Train loss: 0.00001\n",
            "Epoch: 40/40 Iteration: 9780 | Train loss: 0.00000\n",
            "Epoch: 40/40 Iteration: 9800 | Train loss: 0.00000\n",
            "Epoch: 40/40 Iteration: 9820 | Train loss: 0.00000\n",
            "Epoch: 40/40 Iteration: 9840 | Train loss: 0.00001\n",
            "Epoch: 40/40 Iteration: 9860 | Train loss: 0.00000\n",
            "Epoch: 40/40 Iteration: 9880 | Train loss: 0.00001\n",
            "Epoch: 40/40 Iteration: 9900 | Train loss: 0.00002\n",
            "Epoch: 40/40 Iteration: 9920 | Train loss: 0.00000\n",
            "Epoch: 40/40 Iteration: 9940 | Train loss: 0.00001\n",
            "Epoch: 40/40 Iteration: 9960 | Train loss: 0.00000\n",
            "Epoch: 40/40 Iteration: 9980 | Train loss: 0.00000\n",
            "Epoch: 40/40 Iteration: 10000 | Train loss: 0.00000\n"
          ]
        }
      ]
    },
    {
      "cell_type": "code",
      "source": [
        " ## Test: \n",
        "preds = rnn.predict(X_test)\n",
        "y_true = y_test[:len(preds)]\n",
        "print('Test Acc.: %.3f' % (\n",
        "      np.sum(preds == y_true) / len(y_true)))\n",
        "## Get probabilities:\n",
        "proba = rnn.predict(X_test, return_proba=True)"
      ],
      "metadata": {
        "colab": {
          "base_uri": "https://localhost:8080/"
        },
        "id": "THn-L322QvTR",
        "outputId": "08fb57a4-0dd6-4250-8eb9-3d95a6b5ca77"
      },
      "execution_count": 55,
      "outputs": [
        {
          "output_type": "stream",
          "name": "stdout",
          "text": [
            "INFO:tensorflow:Restoring parameters from ./model/sentiment-39.ckpt\n",
            "Test Acc.: 0.853\n",
            "INFO:tensorflow:Restoring parameters from ./model/sentiment-39.ckpt\n"
          ]
        }
      ]
    },
    {
      "cell_type": "code",
      "source": [
        "print(proba)"
      ],
      "metadata": {
        "colab": {
          "base_uri": "https://localhost:8080/"
        },
        "id": "bpGOnYgNQvWa",
        "outputId": "1189dbbf-eb14-451d-ee13-3cf2608d4c9d"
      },
      "execution_count": 56,
      "outputs": [
        {
          "output_type": "stream",
          "name": "stdout",
          "text": [
            "[6.6900965e-09 1.0000000e+00 9.9999332e-01 ... 3.7021758e-07 1.0000000e+00\n",
            " 1.6003986e-08]\n"
          ]
        }
      ]
    },
    {
      "cell_type": "code",
      "source": [
        "print(rnn.predict)"
      ],
      "metadata": {
        "colab": {
          "base_uri": "https://localhost:8080/"
        },
        "id": "EYZn2ESnSXyZ",
        "outputId": "e67c0f1d-32d1-497d-9e51-bc8dfb2c4019"
      },
      "execution_count": 60,
      "outputs": [
        {
          "output_type": "stream",
          "name": "stdout",
          "text": [
            "<bound method SentimentRNN.predict of <__main__.SentimentRNN object at 0x7fdee00cd190>>\n"
          ]
        }
      ]
    },
    {
      "cell_type": "code",
      "source": [
        "X_test"
      ],
      "metadata": {
        "colab": {
          "base_uri": "https://localhost:8080/"
        },
        "id": "MLO5B_haSX3Y",
        "outputId": "287c467c-2d52-4daf-e821-7b69f3cd5515"
      },
      "execution_count": 61,
      "outputs": [
        {
          "output_type": "execute_result",
          "data": {
            "text/plain": [
              "array([[ 1451,     3,     1, ...,     9,   175,     2],\n",
              "       [    0,     0,     0, ..., 14606,   109,     2],\n",
              "       [    0,     0,     0, ...,   117,   117,   117],\n",
              "       ...,\n",
              "       [    0,     0,     0, ...,    17,    24,     2],\n",
              "       [    6,  3003,    74, ...,    66,  3719,     2],\n",
              "       [   80,    90,   273, ...,  1458,   852,     2]])"
            ]
          },
          "metadata": {},
          "execution_count": 61
        }
      ]
    }
  ]
}